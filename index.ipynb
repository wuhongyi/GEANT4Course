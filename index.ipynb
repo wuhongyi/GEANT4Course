{
 "cells": [
  {
   "cell_type": "markdown",
   "metadata": {},
   "source": [
    "# GEANT4 "
   ]
  },
  {
   "cell_type": "markdown",
   "metadata": {},
   "source": [
    "## 常用链接\n",
    "\n",
    "- 官网 https://geant4.web.cern.ch/\n",
    "- 官方教程主页 https://geant4.web.cern.ch/support\n",
    "\n",
    "**基础**\n",
    "\n",
    "- 安装 https://geant4-userdoc.web.cern.ch/UsersGuides/InstallationGuide/html/index.html\n",
    "- 应用手册 https://geant4-userdoc.web.cern.ch/UsersGuides/ForApplicationDeveloper/html/index.html\n",
    "\n",
    "**进阶**\n",
    "\n",
    "- 开发者手册 https://geant4-userdoc.web.cern.ch/UsersGuides/ForToolkitDeveloper/html/index.html\n",
    "- 物理列表指南 https://geant4-userdoc.web.cern.ch/UsersGuides/PhysicsListGuide/html/index.html\n",
    "- 物理参考手册 https://geant4-userdoc.web.cern.ch/UsersGuides/PhysicsReferenceManual/html/index.html\n",
    "\n",
    "----"
   ]
  },
  {
   "cell_type": "markdown",
   "metadata": {},
   "source": [
    "## 目录\n",
    "\n",
    "- [安装](INSTALL.html)\n",
    "- [程序框架](FRAME.html)\n",
    "- [主函数](MAIN.html)\n",
    "- [探测器设置](DetectorConstruction.html)\n",
    "- [粒子源设置](PrimaryGeneratorAction.html)\n",
    "- [数据提取](dataana.html)\n",
    "\n",
    "- [作业](homework.html)\n",
    "\n",
    "示例代码包 *geant4_step* [下载](https://disk.pku.edu.cn:443/link/0D41F07C358D1E42E16A00B0144BB3D4) 2022年4月15日更新\n"
   ]
  },
  {
   "cell_type": "markdown",
   "metadata": {},
   "source": []
  },
  {
   "cell_type": "markdown",
   "metadata": {},
   "source": [
    "## 未完成目录\n",
    "\n",
    "- [g4tools](g4tools.html)\n",
    "- [RunAction](RunAction.html)\n",
    "- [StepingAction](StepingAction.html)\n",
    "- [StackingAction](StackingAction.html)\n",
    "- [TrackingAction](TrackingAction.html)\n",
    "- [调用 ROOT 库](ROOT.html)\n"
   ]
  },
  {
   "cell_type": "markdown",
   "metadata": {},
   "source": []
  },
  {
   "cell_type": "markdown",
   "metadata": {},
   "source": []
  },
  {
   "cell_type": "code",
   "execution_count": 1,
   "metadata": {},
   "outputs": [
    {
     "name": "stdout",
     "output_type": "stream",
     "text": [
      "[NbConvertApp] Converting notebook index.ipynb to html\n",
      "\n",
      "[NbConvertApp] Writing 562516 bytes to index.html\n",
      "\n"
     ]
    }
   ],
   "source": [
    "!jupyter nbconvert index.ipynb --to html"
   ]
  }
 ],
 "metadata": {
  "kernelspec": {
   "display_name": "ROOT C++",
   "language": "c++",
   "name": "root"
  },
  "language_info": {
   "codemirror_mode": "text/x-c++src",
   "file_extension": ".C",
   "mimetype": " text/x-c++src",
   "name": "c++"
  }
 },
 "nbformat": 4,
 "nbformat_minor": 4
}
