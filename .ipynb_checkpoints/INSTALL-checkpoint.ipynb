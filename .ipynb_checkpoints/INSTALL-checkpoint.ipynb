{
 "cells": [
  {
   "cell_type": "markdown",
   "metadata": {},
   "source": [
    "# GEANT4 安装"
   ]
  },
  {
   "cell_type": "markdown",
   "metadata": {},
   "source": [
    "## 系统软件要求\n",
    "\n",
    "软件下载地址 \n",
    "\n",
    "- https://geant4.web.cern.ch/support/download_archive\n",
    "- https://geant4.web.cern.ch/support/download\n",
    "\n",
    "依赖库\n",
    "\n",
    "- Linux: GNU Compiler Collection 4.8.4 or higher.\n",
    "- CMake 3.3 or higher.\n",
    "- Xerces-C++ headers and library >=3\n",
    "- Qt4 (>=4.6) or Qt5 headers and libraries\n",
    "- ...\n"
   ]
  },
  {
   "cell_type": "markdown",
   "metadata": {},
   "source": [
    "**通常的安装步骤**\n",
    "\n",
    "*我们测试到 4.10.7，4.11 版本未测试*\n",
    "\n",
    "```bash\n",
    "  tar -zxvf geant4.10.04.p03.tar.gz\n",
    "  mkdir buildgeant41004p03\n",
    "  cd buildgeant41004p03\n",
    "  cmake -DCMAKE_INSTALL_PREFIX=pathinstall -DCMAKE_BUILD_TYPE=Release -DGEANT4_FORCE_QT4=ON -DGEANT4_USE_SYSTEM_CLHEP=OFF -DGEANT4_USE_SYSTEM_ZLIB=OFF -DGEANT4_USE_SYSTEM_EXPAT=OFF -DGEANT4_USE_OPENGL_X11=ON -DGEANT4_USE_RAYTRACER_X11=ON -DGEANT4_USE_QT=ON -DGEANT4_BUILD_MULTITHREADED=ON -DGEANT4_USE_GDML=ON -DGEANT4_USE_XM=ON -DGEANT4_BUILD_TLS_MODEL=global-dynamic -DGEANT4_USE_FREETYPE=ON  ../geant4.10.04.p03\n",
    "  ## 其中 pathinstall 修改为安装路径\n",
    "  make -jN     \n",
    "  ## N 改为线程数。例如 make -j4\n",
    "  make install\n",
    "```\n",
    "\n",
    "- 将数据解压缩至 pathinstall/share/Geant4-10.4.3/data\n",
    "- 在.bashrc中添加  source  pathinstall/bin/geant4.sh\n",
    "\n",
    "**一些自动安装脚本**\n",
    "\n",
    "- https://github.com/wuhongyi/BasicConfiguration\n",
    "        - Ubuntu 18.04/20.04 LTS\n",
    "        - 使用自动安装脚本前注意查看 README.md 文档，首先执行以下三行命令安装依赖库（有些库是其它软件需要的）\n",
    "        - sudo sh autoaddsource.sh\n",
    "        - sudo sh autoinstallapt.sh\n",
    "        - sudo sh autoinstallpip.sh"
   ]
  },
  {
   "cell_type": "code",
   "execution_count": null,
   "metadata": {},
   "outputs": [],
   "source": []
  },
  {
   "cell_type": "markdown",
   "metadata": {},
   "source": [
    "## 测试安装是否成功\n",
    "\n",
    "运行以下示例 *examples/basic/B1*\n",
    "\n",
    "```bash\n",
    "mkdir build\n",
    "cd build\n",
    "cmake ..\n",
    "make \n",
    "./exampleB1\n",
    "```\n",
    "\n",
    "如果依赖的图形库均安装完整，将会弹出一个可交互操作的图形界面,如下图\n",
    "\n",
    "![image1](img/install1.png)\n",
    "\n",
    "\n",
    "在底下交互框中输入 */run/beamOn 100* ，如下所示\n",
    "\n",
    "![image2](img/install2.png)\n",
    "\n",
    "按回车之后将会出现以下效果\n",
    "\n",
    "![image3](img/install3.png)\n"
   ]
  },
  {
   "cell_type": "code",
   "execution_count": null,
   "metadata": {},
   "outputs": [],
   "source": []
  },
  {
   "cell_type": "markdown",
   "metadata": {},
   "source": [
    "## 运行课程提供的示例包\n",
    "\n",
    "按照以下步骤编译\n",
    "\n",
    "```bash\n",
    "cd geant4_step\n",
    "mkdir build\n",
    "cd build\n",
    "cmake ..\n",
    "make\n",
    "```\n",
    "\n",
    "\n",
    "**图形界面运行方式**\n",
    "\n",
    "```bash\n",
    "./wu vis.mac\n",
    "```\n",
    "![image5](img/install5.png)\n",
    "\n",
    "![image6](img/install6.png)\n",
    "\n",
    "在弹出的图形界面输入框（Session）中输入 */run/beamOn 100* ，然后按回车，将会看到运行 100 个事件之后的结果。\n",
    "\n",
    "![image7](img/install7.png)\n",
    "\n",
    "\n",
    "\n",
    "**非图形界面运行方式**\n",
    "\n",
    "```bash\n",
    "./wu -l\n",
    "\n",
    "## 在 Idle> 之后输入 /run/beamOn 1000000\n",
    "## 表示运行 1000000 个事件\n",
    "exit\n",
    "## 退出程序\n",
    "```\n",
    "\n",
    "![image8](img/install8.png)\n",
    "\n",
    "\n",
    "\n"
   ]
  },
  {
   "cell_type": "code",
   "execution_count": null,
   "metadata": {},
   "outputs": [],
   "source": []
  },
  {
   "cell_type": "markdown",
   "metadata": {},
   "source": [
    "## 程序运行过程中监视内存占比\n",
    "\n",
    "初学者写的 C++ 程序通常存在的一个共性的问题是\"内存泄漏\"，就是申请内存空间然后不释放。这个情况如果发生在循环过程中的时候，那带来的问题是内存使用率不断提升，然后占比超过 80% 之后，电脑基本卡死了。\n",
    "\n",
    "建议大家在运行程序过程中，盯着系统中进程的资源占用状况，可使用 “top” 命令，如下图。如果程序占用内存随时间一直在增加，及时通过两次“Ctrl+C” 命令来终止模拟程序。\n",
    "\n",
    "![](img/install4.png)\n",
    "\n"
   ]
  },
  {
   "cell_type": "code",
   "execution_count": null,
   "metadata": {},
   "outputs": [],
   "source": []
  },
  {
   "cell_type": "code",
   "execution_count": 1,
   "metadata": {},
   "outputs": [
    {
     "name": "stdout",
     "output_type": "stream",
     "text": [
      "[NbConvertApp] Converting notebook INSTALL.ipynb to html\n",
      "\n",
      "[NbConvertApp] Writing 566479 bytes to INSTALL.html\n",
      "\n"
     ]
    }
   ],
   "source": [
    "!jupyter nbconvert INSTALL.ipynb --to html"
   ]
  }
 ],
 "metadata": {
  "kernelspec": {
   "display_name": "ROOT C++",
   "language": "c++",
   "name": "root"
  },
  "language_info": {
   "codemirror_mode": "text/x-c++src",
   "file_extension": ".C",
   "mimetype": " text/x-c++src",
   "name": "c++"
  }
 },
 "nbformat": 4,
 "nbformat_minor": 2
}
