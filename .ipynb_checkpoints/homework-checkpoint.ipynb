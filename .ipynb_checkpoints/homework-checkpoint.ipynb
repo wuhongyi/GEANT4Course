{
 "cells": [
  {
   "cell_type": "markdown",
   "metadata": {},
   "source": [
    "# 作业"
   ]
  },
  {
   "cell_type": "markdown",
   "metadata": {},
   "source": [
    "## 立体角模拟\n",
    "\n",
    "- 设置探测器\n",
    "- 将材料设置为真空\n",
    "- 选择一个粒子，4$\\pi$ 均匀发射\n"
   ]
  },
  {
   "cell_type": "markdown",
   "metadata": {},
   "source": [
    "## $\\beta$ 探测效率模拟\n",
    "\n",
    "- 300 um 厚硅探测器\n",
    "- 假设 $\\beta$"
   ]
  },
  {
   "cell_type": "code",
   "execution_count": 1,
   "metadata": {},
   "outputs": [
    {
     "name": "stdout",
     "output_type": "stream",
     "text": [
      "[NbConvertApp] Converting notebook homework.ipynb to html\n",
      "\n",
      "[NbConvertApp] Writing 559060 bytes to homework.html\n",
      "\n"
     ]
    }
   ],
   "source": [
    "!jupyter nbconvert homework.ipynb --to html"
   ]
  }
 ],
 "metadata": {
  "kernelspec": {
   "display_name": "ROOT C++",
   "language": "c++",
   "name": "root"
  },
  "language_info": {
   "codemirror_mode": "text/x-c++src",
   "file_extension": ".C",
   "mimetype": " text/x-c++src",
   "name": "c++"
  }
 },
 "nbformat": 4,
 "nbformat_minor": 4
}
