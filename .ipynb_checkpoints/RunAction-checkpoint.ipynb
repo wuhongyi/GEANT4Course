{
 "cells": [
  {
   "cell_type": "markdown",
   "metadata": {},
   "source": [
    "# RunAction"
   ]
  },
  {
   "cell_type": "markdown",
   "metadata": {},
   "source": [
    "**第二次课程讲**\n",
    "\n",
    "![ra1](img/runaction1.png)\n",
    "\n",
    "![ra2](img/runaction2.png)"
   ]
  },
  {
   "cell_type": "code",
   "execution_count": 1,
   "metadata": {},
   "outputs": [
    {
     "name": "stdout",
     "output_type": "stream",
     "text": [
      "[NbConvertApp] Converting notebook RunAction.ipynb to html\n",
      "\n",
      "[NbConvertApp] Writing 559075 bytes to RunAction.html\n",
      "\n"
     ]
    }
   ],
   "source": [
    "!jupyter nbconvert RunAction.ipynb --to html"
   ]
  }
 ],
 "metadata": {
  "kernelspec": {
   "display_name": "ROOT C++",
   "language": "c++",
   "name": "root"
  },
  "language_info": {
   "codemirror_mode": "text/x-c++src",
   "file_extension": ".C",
   "mimetype": " text/x-c++src",
   "name": "c++"
  }
 },
 "nbformat": 4,
 "nbformat_minor": 4
}
