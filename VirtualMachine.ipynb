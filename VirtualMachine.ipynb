{
 "cells": [
  {
   "cell_type": "markdown",
   "metadata": {},
   "source": [
    "# LINUX 环境配置\n",
    "\n",
    "\n",
    "**有条件的建议安装双系统或者虚拟机中安装 LINUX 操作系统，当前建议安装 Ubuntu20.04**\n",
    "\n",
    "- 双系统具体安装方式可以百度一下，但是为了避免安装中出现各种意外，建议安装之前备份好电脑上的重要数据\n",
    "- 虚拟机推荐使用 VMwareWorkstation 和 Oracle VM VirtualBox，具体怎么安装LINUX同样可以百度\n",
    "\n",
    "\n",
    "安装好 Ubuntu 之后，我们在 https://github.com/wuhongyi/BasicConfiguration (github经常被墙，如果访问不了的时候换个时间访问)上提供了一些脚本帮助大家快速配置相应的软件，包括ROOT/GEANT4等。\n",
    "\n",
    "安装好系统之后，下载以上脚本，进入文件夹 Ubuntu。\n",
    "\n",
    "\n",
    "\n",
    "首先在sudo权限下依次执行以下三个脚本来自动安装升级一些依赖软件（**这个必须是第一步完成！！！**），第三个脚本指定jupyter依赖的库版本。\n",
    "\n",
    "```bash\n",
    "sudo sh autoaddsource.sh\n",
    "sudo sh autoinstallapt.sh\n",
    "sudo sh autoinstallpip.sh\n",
    "```\n",
    "\n",
    "在执行完以上脚本之后，即可通过脚本安装 ROOT/GEANT4 等，这里提供多个版本的安装脚本，大家根据需要来选择：\n",
    "\n",
    "\n",
    "- 安装ROOT软件\n",
    "  ```bash\n",
    "  # 6.24.02\n",
    "  sudo sh autoinstallroot624.sh\n",
    "  # 6.16.00\n",
    "  sudo sh autoinstallroot616.sh\n",
    "  # 6.12.06\n",
    "  sudo sh autoinstallroot612.sh\n",
    "  ```\n",
    "- 安装Geant4\n",
    "  ```bash\n",
    "  # 4.10.07p02\n",
    "  sudo sh autoinstallgeant41007p02.sh\n",
    "  # 4.10.06p03\n",
    "  sudo sh autoinstallgeant41006p03.sh\n",
    "  # 4.10.05p01\n",
    "  sudo sh autoinstallgeant41005p01.sh\n",
    "  # 4.10.04p03\n",
    "  sudo sh autoinstallgeant41004p03.sh\n",
    "  ```\n",
    "\n",
    "这里以ROOT 6.24.02 为例，脚本安装完成之后会提示你将以下信息加入到 *.bashrc* 文件中，\n",
    "```bash\n",
    "source /opt/ROOT/root62402/bin/thisroot.sh\n",
    "```\n",
    "在将以上信息加入 *.bashrc* 文件之后，重新打开 **终端** 即可使用 ROOT 软件。\n",
    "\n",
    "## jupyter 配置\n",
    "\n",
    "在完成 ROOT 安装配置之后，可以通过以下命令来开启 jupyter 平台，\n",
    "```bash\n",
    "root --notebook\n",
    "```\n",
    "\n",
    "\n",
    "\n",
    "\n",
    "\n",
    "\n",
    "\n",
    "\n",
    "\n"
   ]
  },
  {
   "cell_type": "code",
   "execution_count": 1,
   "metadata": {},
   "outputs": [
    {
     "name": "stdout",
     "output_type": "stream",
     "text": [
      "2023年 07月 10日 星期一 01:09:26 CST\n",
      "\n",
      "[NbConvertApp] Converting notebook VirtualMachine.ipynb to html\n",
      "\n",
      "\n",
      "[NbConvertApp] Writing 560066 bytes to VirtualMachine.html\n",
      "\n",
      "\n"
     ]
    }
   ],
   "source": [
    "!date\n",
    "!jupyter nbconvert VirtualMachine.ipynb --to html"
   ]
  }
 ],
 "metadata": {
  "kernelspec": {
   "display_name": "ROOT C++",
   "language": "c++",
   "name": "root"
  },
  "language_info": {
   "codemirror_mode": "text/x-c++src",
   "file_extension": ".C",
   "mimetype": " text/x-c++src",
   "name": "c++"
  }
 },
 "nbformat": 4,
 "nbformat_minor": 4
}
