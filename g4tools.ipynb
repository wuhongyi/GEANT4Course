{
 "cells": [
  {
   "cell_type": "markdown",
   "metadata": {},
   "source": [
    "# g4tools"
   ]
  },
  {
   "cell_type": "markdown",
   "metadata": {},
   "source": [
    "多线程中为了使代码尽可能简单，因此每个线程都是独立的（没有共享数据）：\n",
    "\n",
    "- 每个对象都有分析所需的每个对象（TH*、TTree、TFile）的实例\n",
    "- 每个线程将写出一个单独的文件（唯一的名称包含线程 id）\n",
    "\n",
    "\n",
    "\n",
    "目前在多线程程序中调用外部 CERN ROOT 并非易事,程序存在历史遗留问题\n",
    "- 线程安全问题\n",
    "    - new TH* , new TTree(), TTree::SetBranchAddress() ,TFile::Write\n",
    "    - TTree::Fill 在不使用 std::vectors 时候是线程安全的\n",
    "    \n",
    "因此 GEANT4 中内置提供了 ROOT/CSV/XML 等格式的文件创建的工具包，g4tools，它包含基本的 文件，直方图，ntuple（tree）的存储功能。使用上与 CERN ROOT 接近。它有多种实例化方式，这里我们只介绍一个最通用的方式。 \n",
    "    "
   ]
  },
  {
   "cell_type": "markdown",
   "metadata": {},
   "source": [
    "## 常用函数"
   ]
  },
  {
   "cell_type": "markdown",
   "metadata": {},
   "source": [
    "\n",
    "\n",
    "```cpp\n",
    "#include \"G4CsvAnalysisManager.hh\"\n",
    "#include \"G4XmlAnalysisManager.hh\"\n",
    "#include \"G4RootAnalysisManager.hh\"\n",
    "#include \"G4VAnalysisManager.hh\"\n",
    "```\n",
    "\n",
    "\n",
    "```cpp\n",
    "G4bool \tOpenFile (const G4String &fileName=\"\")\n",
    "G4bool \tWrite ()\n",
    "G4bool \tCloseFile ()\n",
    "\n",
    "G4int \tCreateNtuple (const G4String &name, const G4String &title)\n",
    "G4int \tCreateNtupleIColumn (const G4String &name)\n",
    "G4int \tCreateNtupleFColumn (const G4String &name)\n",
    "G4int \tCreateNtupleDColumn (const G4String &name)\n",
    "G4int \tCreateNtupleSColumn (const G4String &name)\n",
    "G4int \tCreateNtupleIColumn (const G4String &name, std::vector< int > &vector)\n",
    "G4int \tCreateNtupleFColumn (const G4String &name, std::vector< float > &vector)\n",
    "G4int \tCreateNtupleDColumn (const G4String &name, std::vector< double > &vector)\n",
    "void \tFinishNtuple ()\n",
    " \n",
    "G4bool \tFillNtupleIColumn (G4int id, G4int value)\n",
    "G4bool \tFillNtupleFColumn (G4int id, G4float value)\n",
    "G4bool \tFillNtupleDColumn (G4int id, G4double value)\n",
    "G4bool \tFillNtupleSColumn (G4int id, const G4String &value)\n",
    "G4bool \tAddNtupleRow ()    \n",
    "    \n",
    "\n",
    "G4int \tCreateNtupleIColumn (G4int ntupleId, const G4String &name)\n",
    "G4int \tCreateNtupleFColumn (G4int ntupleId, const G4String &name)\n",
    "G4int \tCreateNtupleDColumn (G4int ntupleId, const G4String &name)\n",
    "G4int \tCreateNtupleSColumn (G4int ntupleId, const G4String &name)\n",
    "G4int \tCreateNtupleIColumn (G4int ntupleId, const G4String &name, std::vector< int > &vector)\n",
    "G4int \tCreateNtupleFColumn (G4int ntupleId, const G4String &name, std::vector< float > &vector)\n",
    "G4int \tCreateNtupleDColumn (G4int ntupleId, const G4String &name, std::vector< double > &vector)\n",
    "void \tFinishNtuple (G4int ntupleId)    \n",
    "    \n",
    "G4bool \tFillNtupleIColumn (G4int ntupleId, G4int columnId, G4int value)\n",
    "G4bool \tFillNtupleFColumn (G4int ntupleId, G4int columnId, G4float value)\n",
    "G4bool \tFillNtupleDColumn (G4int ntupleId, G4int columnId, G4double value)\n",
    "G4bool \tFillNtupleSColumn (G4int ntupleId, G4int id, const G4String &value)\n",
    "G4bool \tAddNtupleRow (G4int ntupleId)      \n",
    "    \n",
    "```\n",
    "\n",
    "\n",
    "关键：函数中的 **I**、**F**、**D**、**S** 分别表示 int、float、double、string 类型。\n",
    "\n",
    "\n",
    "  \n",
    "  "
   ]
  },
  {
   "cell_type": "markdown",
   "metadata": {},
   "source": [
    "## 示例代码"
   ]
  },
  {
   "cell_type": "markdown",
   "metadata": {},
   "source": [
    "\n",
    "\n",
    "在 **.hh** 文件中添加头文件\n",
    "\n",
    "```cpp\n",
    "#include \"G4CsvAnalysisManager.hh\"\n",
    "#include \"G4XmlAnalysisManager.hh\"\n",
    "#include \"G4RootAnalysisManager.hh\"\n",
    "#include \"G4VAnalysisManager.hh\"\n",
    "```\n",
    "\n",
    "同时添加类的对象\n",
    "\n",
    "```cpp\n",
    "G4VAnalysisManager* analysisManager;\n",
    "```\n",
    "\n",
    "获得线程中对象指针，通常放在构造函数或者该类中第一次使用之前\n",
    "\n",
    "```cpp\n",
    "  analysisManager = G4RootAnalysisManager::Instance();\n",
    "  // analysisManager = G4CsvAnalysisManager::Instance();\n",
    "  // analysisManager = G4XmlAnalysisManager::Instance();\n",
    "```\n",
    "\n",
    "----\n",
    "\n",
    "### 打开文件\n",
    "\n",
    "```cpp\n",
    "\n",
    "  analysisManager->SetVerboseLevel(1);\n",
    "  analysisManager->CreateNtuple(\"t\", \"Geant4 data !\");\n",
    "  \n",
    "  \n",
    "  analysisManager->CreateNtupleIColumn(\"EventID\");// 0\n",
    "  analysisManager->CreateNtupleIColumn(\"ParentID\");// 1\n",
    "  analysisManager->CreateNtupleIColumn(\"TrackID\");// 2\n",
    "  analysisManager->CreateNtupleSColumn(\"PName\");// 3\n",
    "  analysisManager->CreateNtupleSColumn(\"CreatorProcess\");// 4\n",
    "  analysisManager->CreateNtupleDColumn(\"EDep\");// 5\n",
    "\n",
    "\n",
    "\n",
    "  analysisManager->FinishNtuple();\n",
    "  analysisManager->OpenFile(\"outputdata\");//设置输出文件名\n",
    "```  \n",
    "\n",
    "\n",
    "  \n",
    "  \n",
    "### 填充数据\n",
    "\n",
    "```cpp\n",
    "  // 这里 0-5 与前面创建的顺序\n",
    "  analysisManager->FillNtupleIColumn(0, EventID);\n",
    "  analysisManager->FillNtupleIColumn(1, ParentID);\n",
    "  analysisManager->FillNtupleIColumn(2, TrackID);\n",
    "  analysisManager->FillNtupleSColumn(3, PName);\n",
    "  analysisManager->FillNtupleSColumn(4, CreatorProcess);\n",
    "  analysisManager->FillNtupleDColumn(5, EDep);\n",
    "\n",
    "\n",
    "  analysisManager->AddNtupleRow();  //相当于 Fill\n",
    "```\n",
    "  \n",
    "  \n",
    "### 关闭文件\n",
    "\n",
    "```cpp\n",
    "  analysisManager->Write();\n",
    "  analysisManager->CloseFile();\n",
    "```  \n",
    "  "
   ]
  },
  {
   "cell_type": "markdown",
   "metadata": {},
   "source": []
  },
  {
   "cell_type": "markdown",
   "metadata": {},
   "source": []
  },
  {
   "cell_type": "markdown",
   "metadata": {},
   "source": []
  },
  {
   "cell_type": "code",
   "execution_count": 1,
   "metadata": {},
   "outputs": [
    {
     "name": "stdout",
     "output_type": "stream",
     "text": [
      "[NbConvertApp] Converting notebook g4tools.ipynb to html\n",
      "\n",
      "\n",
      "[NbConvertApp] Writing 583051 bytes to g4tools.html\n",
      "\n",
      "\n"
     ]
    }
   ],
   "source": [
    "!jupyter nbconvert g4tools.ipynb --to html"
   ]
  }
 ],
 "metadata": {
  "kernelspec": {
   "display_name": "ROOT C++",
   "language": "c++",
   "name": "root"
  },
  "language_info": {
   "codemirror_mode": "text/x-c++src",
   "file_extension": ".C",
   "mimetype": " text/x-c++src",
   "name": "c++"
  }
 },
 "nbformat": 4,
 "nbformat_minor": 4
}
