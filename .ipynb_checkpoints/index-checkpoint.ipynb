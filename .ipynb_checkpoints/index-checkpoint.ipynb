{
 "cells": [
  {
   "cell_type": "markdown",
   "metadata": {},
   "source": [
    "# GEANT4\n",
    "\n",
    "本教程主要面向中低能实验核物理方向"
   ]
  },
  {
   "cell_type": "markdown",
   "metadata": {},
   "source": [
    "## 常用链接\n",
    "\n",
    "- 官网 https://geant4.web.cern.ch/\n",
    "- 官方教程主页 https://geant4.web.cern.ch/support\n",
    "\n",
    "**基础**\n",
    "\n",
    "- 安装 https://geant4-userdoc.web.cern.ch/UsersGuides/InstallationGuide/html/index.html\n",
    "- 应用手册 https://geant4-userdoc.web.cern.ch/UsersGuides/ForApplicationDeveloper/html/index.html\n",
    "\n",
    "**进阶**\n",
    "\n",
    "- 开发者手册 https://geant4-userdoc.web.cern.ch/UsersGuides/ForToolkitDeveloper/html/index.html\n",
    "- 物理列表指南 https://geant4-userdoc.web.cern.ch/UsersGuides/PhysicsListGuide/html/index.html\n",
    "- 物理参考手册 https://geant4-userdoc.web.cern.ch/UsersGuides/PhysicsReferenceManual/html/index.html\n",
    "\n",
    "----"
   ]
  },
  {
   "cell_type": "markdown",
   "metadata": {},
   "source": [
    "## 目录\n",
    "\n",
    "- [安装](INSTALL.html)\n",
    "   - [虚拟机](VirtualMachine.html)\n",
    "   - [WSL](WSL.html)\n",
    "- [程序框架](FRAME.html)\n",
    "- [主函数](MAIN.html)\n",
    "- [探测器设置](DetectorConstruction.html)\n",
    "   - [三维软件构建几何体](STL2G4.html)\n",
    "- [粒子源设置](PrimaryGeneratorAction.html)\n",
    "- [数据提取](dataana.html)\n",
    "\n",
    "----\n",
    "\n",
    "- [g4tools](g4tools.html)\n",
    "- [RunAction](RunAction.html)\n",
    "- [StepingAction](StepingAction.html)\n",
    "- [StackingAction](StackingAction.html)\n",
    "- [TrackInformation](TrackInformation.html)\n",
    "- [TrackingAction](TrackingAction.html)\n",
    "\n",
    "- [随机数设置](Random.html)\n",
    "- [调用 ROOT 库](ROOT.html)\n",
    "\n",
    "\n",
    "----\n",
    "\n",
    "- [SensitiveDetector](SensitiveDetector.html)\n",
    "- [EventAction](EventAction.html)\n",
    "- [PhotoEvaporation](PhotoEvaporation.html)\n",
    "\n",
    "\n",
    "----\n",
    "\n",
    "- [作业](homework.html)\n",
    "\n",
    "\n",
    "\n",
    "\n",
    "示例代码包 *geant4_step* [下载](https://disk.pku.edu.cn/link/AAF669709111994DBCB73E61DA6FFB8DE7) 2024年5月2日更新   **测试版本 4.10.07，4.11.1，4.12.1**。\n",
    "\n",
    "\n",
    "示例代码包 *geant4_step* [下载](https://disk.pku.edu.cn/link/AAF12C56123D7A44E9AE9508B37DE2A4BF) 2023年7月10日更新   **测试版本 4.10.04，4.10.05，4.10.06，4.10.07，4.11.1，4.12.1**。\n",
    "\n",
    "\n",
    "\n",
    "\n",
    "**运行中如出现异常，请及时在群里反馈或者与吴鸿毅(wuhongyi@qq.com / wuhongyi@pku.edu.cn)联系**\n"
   ]
  },
  {
   "cell_type": "markdown",
   "metadata": {},
   "source": [
    "----"
   ]
  },
  {
   "cell_type": "markdown",
   "metadata": {},
   "source": [
    "## 未完成目录\n",
    "\n",
    "\n",
    "- 闪烁体光学光子传输\n",
    "- ...\n",
    "- 电场、磁场\n",
    "\n",
    "- 物理模型选择\n",
    "- 修改衰变路径、跃迁路径\n",
    "\n",
    "- [RadioactiveDecay](RadioactiveDecay.html)\n",
    "\n"
   ]
  },
  {
   "cell_type": "markdown",
   "metadata": {},
   "source": [
    "----"
   ]
  },
  {
   "cell_type": "markdown",
   "metadata": {},
   "source": []
  },
  {
   "cell_type": "code",
   "execution_count": null,
   "metadata": {},
   "outputs": [],
   "source": [
    "\n",
    "\n"
   ]
  },
  {
   "cell_type": "code",
   "execution_count": 1,
   "metadata": {},
   "outputs": [
    {
     "name": "stdout",
     "output_type": "stream",
     "text": [
      "2024年 05月 03日 星期五 01:32:38 CST\n",
      "\n",
      "[NbConvertApp] Converting notebook index.ipynb to html\n",
      "\n",
      "\n",
      "[NbConvertApp] Writing 564617 bytes to index.html\n",
      "\n",
      "\n",
      "[NbConvertApp] Converting notebook index.ipynb to html\n",
      "[NbConvertApp] Writing 564617 bytes to index.html\n",
      "\n"
     ]
    }
   ],
   "source": [
    "!date\n",
    "!jupyter nbconvert index.ipynb --to html\n",
    "!jupyter nbconvert index.ipynb --to html"
   ]
  }
 ],
 "metadata": {
  "kernelspec": {
   "display_name": "ROOT C++",
   "language": "c++",
   "name": "root"
  },
  "language_info": {
   "codemirror_mode": "text/x-c++src",
   "file_extension": ".C",
   "mimetype": " text/x-c++src",
   "name": "c++"
  }
 },
 "nbformat": 4,
 "nbformat_minor": 4
}
