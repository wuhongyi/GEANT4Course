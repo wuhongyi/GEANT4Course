{
 "cells": [
  {
   "cell_type": "markdown",
   "metadata": {},
   "source": [
    "# StepingAction"
   ]
  },
  {
   "cell_type": "markdown",
   "metadata": {},
   "source": [
    "**第二次课程讲**\n",
    "\n",
    "![st1](img/steppingaction1.png)\n",
    "\n",
    "![st2](img/steppingaction2.png)\n",
    "\n",
    "![st3](img/steppingaction3.png)\n",
    "\n",
    "![st4](img/steppingaction4.png)\n",
    "\n",
    "![st5](img/steppingaction5.png)\n",
    "\n",
    "![st6](img/steppingaction6.png)\n"
   ]
  },
  {
   "cell_type": "code",
   "execution_count": 1,
   "metadata": {},
   "outputs": [
    {
     "name": "stdout",
     "output_type": "stream",
     "text": [
      "[NbConvertApp] Converting notebook StepingAction.ipynb to html\n",
      "\n",
      "[NbConvertApp] Writing 559103 bytes to StepingAction.html\n",
      "\n"
     ]
    }
   ],
   "source": [
    "!jupyter nbconvert StepingAction.ipynb --to html"
   ]
  }
 ],
 "metadata": {
  "kernelspec": {
   "display_name": "ROOT C++",
   "language": "c++",
   "name": "root"
  },
  "language_info": {
   "codemirror_mode": "text/x-c++src",
   "file_extension": ".C",
   "mimetype": " text/x-c++src",
   "name": "c++"
  }
 },
 "nbformat": 4,
 "nbformat_minor": 4
}
