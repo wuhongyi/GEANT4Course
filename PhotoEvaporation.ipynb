{
 "cells": [
  {
   "cell_type": "markdown",
   "metadata": {},
   "source": [
    "# PhotoEvaporation"
   ]
  },
  {
   "cell_type": "markdown",
   "metadata": {},
   "source": [
    "\n",
    "\n",
    "GEANT4 安装的数据库中，有一个文件夹 **PhotoEvaporation5.x**，里面文件格式 z[xx].a[xx]，每个文件对应一个核素，z 后面的数值为其质子数，a 后面的数值为核子数。\n",
    "\n",
    "我们以 *60Ni* 为例，\n",
    "\n",
    "\n",
    "![picpe1](img/photoevaporationz28a60.png)\n",
    "\n",
    "该数据库为原子核的给定能级的退激数据，能级信号包含自旋宇称、跃迁角动量等。\n",
    "\n",
    "- 一个文件的数据可划分为多个子块，每个子块为一个能级。能级中包含基态。\n",
    "- 每个子块第一行为该能级的信息。\n",
    "- 子块后面的行为从该能级往下跃迁到较低能级的 gamma 信息。\n",
    "\n",
    "------\n",
    "\n",
    "\n",
    "定义同位素能级的数据包含6列：\n",
    "\n",
    "- 1） 一个整数，定义基态从 0 开始的能级的顺序索引(编号)\n",
    "- 2） 定义浮动级别（-、+X、+Y、+Z、+U、+V、+W、+R、+S、+T、+A、+B、+C）的字符串\n",
    "    - \"-\" 字符串表示它是一个非浮动能级。\n",
    "- 3） 能级激发能（keV）\n",
    "- 4） 能级半衰期。-1 半衰期意味着稳定的基态。\n",
    "- 5） 该能级的自旋宇称。符号表示奇偶性。当 ENSDF 文件中缺少 Jpi 时，将使用值 99。\n",
    "- 6） n_gammas， 该能级可能的 gamma 退激路径数。\n",
    "    - 0 意味着该能级在 ENSDF 中没有退激 gamma\n",
    "\n",
    "------\n",
    "\n",
    "在定义能级之后，n_gammas 行信数据描述退激 gamma 的信息。gamma 的信息如下:\n",
    "\n",
    "- 1列: 退激能级的编号\n",
    "- 2列: 跃迁 gamma 的能量\n",
    "- 3列: gamma 相对发射强度。\n",
    "- 4列: 跃迁多极性。1，2，3，4，5，6，7 的多极数表示 E0，E1，M1，E2，M2，E3，M3 单极跃迁，100*Nx+Ny 表示多极跃迁，其中 Ny 和 Ny 取值 1，2、3，4、5、6，7 表示 E0、E1、M1、E2、M2、E3、M3。例如，M1+E2 转换将被写入 304。值为 0 表示未知的多极性。\n",
    "- 5列: 多极混合比。O 意味着是 E1、M1、E2、M2 跃迁，或者 ENSDF 中没有给出多极混合比。\n",
    "- 6列: 总内转换系数：α=Ic/Ig\n",
    "    - 总跃迁是伽马退激和内转换的总和。因此，总分支比与（1+α)*Ig 成比例\n",
    "    - 给定能级的总分支比总和并不总是达到 100%。它们在内部重新归一。\n",
    "    - gamma 退激和内转换的相对概率分别为 1/(1+α) 和 α/(1+α)\n",
    "- 7-16列: 仅当总内转换系数 α 不为 0 时给出\n",
    "    - K-shell\n",
    "    - L1-3 shells\n",
    "    - M1-5 shells\n",
    "    - Outer shells (shellID = 9 is used, when applicable)\n",
    "   \n",
    "\n",
    "\n",
    "\n"
   ]
  },
  {
   "cell_type": "markdown",
   "metadata": {},
   "source": [
    "## 添加用户数据\n",
    "\n",
    "默认条件下， GEANT4 会读取文件夹 **PhotoEvaporation5.x** 的数据。在 gamma 谱学研究中，测量的能级信息往往是 ENSDF 中没有的，因此需要读取我们数据表。\n",
    "\n",
    "**main.cc**\n",
    "\n",
    "```cpp\n",
    "  mtrunManager->Initialize();\n",
    "  // 在内核初始化之后添加数据\n",
    "  // 在这行代码之后添加\n",
    "\n",
    "  // userEvaporationData\n",
    "  //G4NuclearLevelData::GetInstance()->AddPrivateData(Z, A, file_name);\n",
    "  G4NuclearLevelData::GetInstance()->AddPrivateData(28, 60, \"wu_z28.a60\");\n",
    "    \n",
    "\n",
    "```\n",
    "\n",
    "文件 **wu_z28.a60** 中，修改了能级 2505 keV 的退激 gamma 分值比。\n"
   ]
  },
  {
   "cell_type": "markdown",
   "metadata": {},
   "source": [
    "## 示例\n",
    "\n",
    "*60Ni* 2505 keV 能级退激在 Ge 探测器上的能谱。\n",
    "\n",
    "\n",
    "```cpp\n",
    "void wuPrimaryGeneratorActionAll::GeneratePrimaries(G4Event* anEvent)\n",
    "{\n",
    "  G4ParticleTable* particleTable = G4ParticleTable::GetParticleTable();\n",
    "  G4ParticleDefinition* pp = 0;\n",
    "\n",
    "  // -------------------------\n",
    "  \n",
    "  //自定义带电粒子\n",
    "  G4int IonZ = 28;\n",
    "  G4int IonA = 60;\n",
    "  G4double IonEstar = 2505.753*keV; //exitition energy\n",
    "  G4double IonQ = 1;\n",
    "  pp = particleTable->GetIonTable()->GetIon(IonZ, IonA, IonEstar);//4.10.01版本强制 G4IonTable.hh\n",
    "  particleGun->SetParticleCharge(IonQ);\n",
    "\n",
    "  if(pp)\n",
    "    particleGun->SetParticleDefinition(pp);\n",
    "  else\n",
    "    G4cout<<\"##Null pp in wuPrimaryGeneratorAction::SetParticleGun()\"<<G4endl;\n",
    "\n",
    "  //primary particle kinetic energy\n",
    "  particleGun->SetParticleEnergy(2.0*MeV);  \n",
    " \n",
    "  // 这里省略代码\n",
    "  // 。。。。。。\n",
    "  // 粒子各向同性发射\n",
    "}\n",
    "```\n",
    "    \n",
    "    \n",
    "典型数据输出如下:    \n",
    "![picpe2](img/exampleNi60data.png)    \n",
    "    \n",
    "    \n",
    "比较默认数据库和我们修改数据库， Ge 探测器测量的能谱。其中黑色为 GEANT4 默认 ENSDF 库。\n",
    "    \n",
    "![picpe3](img/exampleNi60.png)\n",
    "\n",
    "\n",
    "**解释为何 gamma 峰存在展宽?**\n",
    "\n",
    "**图中黑色数据，2505 keV 能级，通过 1173 和 1332 退激到基态，同时也可直接发射 2505 到基态，它们的强度比为 100:2e-6。为何图中 2505 keV 的 gamma 峰这么强?**\n"
   ]
  },
  {
   "cell_type": "code",
   "execution_count": 1,
   "metadata": {},
   "outputs": [
    {
     "name": "stdout",
     "output_type": "stream",
     "text": [
      "2024年 05月 02日 星期四 10:48:50 CST\n",
      "\n",
      "[NbConvertApp] Converting notebook PhotoEvaporation.ipynb to html\n",
      "\n",
      "[NbConvertApp] Writing 567292 bytes to PhotoEvaporation.html\n",
      "\n"
     ]
    }
   ],
   "source": [
    "!date\n",
    "!jupyter nbconvert PhotoEvaporation.ipynb --to html"
   ]
  }
 ],
 "metadata": {
  "kernelspec": {
   "display_name": "ROOT C++",
   "language": "c++",
   "name": "root"
  },
  "language_info": {
   "codemirror_mode": "text/x-c++src",
   "file_extension": ".C",
   "mimetype": " text/x-c++src",
   "name": "c++"
  }
 },
 "nbformat": 4,
 "nbformat_minor": 4
}
