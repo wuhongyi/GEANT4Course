{
 "cells": [
  {
   "cell_type": "markdown",
   "metadata": {},
   "source": [
    "# GEANT4 "
   ]
  },
  {
   "cell_type": "markdown",
   "metadata": {},
   "source": [
    "## 常用链接\n",
    "\n",
    "- 官网 https://geant4.web.cern.ch/\n",
    "- 官方教程主页 https://geant4.web.cern.ch/support\n",
    "\n",
    "**基础**\n",
    "\n",
    "- 安装 https://geant4-userdoc.web.cern.ch/UsersGuides/InstallationGuide/html/index.html\n",
    "- 应用手册 https://geant4-userdoc.web.cern.ch/UsersGuides/ForApplicationDeveloper/html/index.html\n",
    "\n",
    "**进阶**\n",
    "\n",
    "- 开发者手册 https://geant4-userdoc.web.cern.ch/UsersGuides/ForToolkitDeveloper/html/index.html\n",
    "- 物理列表指南 https://geant4-userdoc.web.cern.ch/UsersGuides/PhysicsListGuide/html/index.html\n",
    "- 物理参考手册 https://geant4-userdoc.web.cern.ch/UsersGuides/PhysicsReferenceManual/html/index.html\n",
    "\n",
    "----"
   ]
  },
  {
   "cell_type": "markdown",
   "metadata": {},
   "source": [
    "## 目录\n",
    "\n",
    "- [安装](INSTALL.html)\n",
    "- [主函数](MAIN.html)\n",
    "- [探测器设置]()\n",
    "- [粒子源设置]()\n",
    "- [数据提取]()\n",
    "- [RunAction]()\n",
    "- [StepingAction]()\n",
    "- [作业](homework.html)"
   ]
  },
  {
   "cell_type": "markdown",
   "metadata": {},
   "source": []
  },
  {
   "cell_type": "markdown",
   "metadata": {},
   "source": [
    "## 未完成目录\n",
    "- [StackingAction]()\n",
    "- [TrackingAction]()\n",
    "- [调用 ROOT 库]()\n"
   ]
  },
  {
   "cell_type": "markdown",
   "metadata": {},
   "source": []
  },
  {
   "cell_type": "markdown",
   "metadata": {},
   "source": []
  },
  {
   "cell_type": "code",
   "execution_count": 1,
   "metadata": {},
   "outputs": [
    {
     "name": "stdout",
     "output_type": "stream",
     "text": [
      "[NbConvertApp] Converting notebook index.ipynb to html\n",
      "\n",
      "[NbConvertApp] Writing 562313 bytes to index.html\n",
      "\n"
     ]
    }
   ],
   "source": [
    "!jupyter nbconvert index.ipynb --to html"
   ]
  }
 ],
 "metadata": {
  "kernelspec": {
   "display_name": "ROOT C++",
   "language": "c++",
   "name": "root"
  },
  "language_info": {
   "codemirror_mode": "text/x-c++src",
   "file_extension": ".C",
   "mimetype": " text/x-c++src",
   "name": "c++"
  }
 },
 "nbformat": 4,
 "nbformat_minor": 4
}
