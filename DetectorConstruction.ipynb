{
 "cells": [
  {
   "cell_type": "markdown",
   "metadata": {},
   "source": [
    "# 探测器构建"
   ]
  },
  {
   "cell_type": "markdown",
   "metadata": {},
   "source": [
    "G4 探测器构建顺序\n",
    "\n",
    "\n",
    "几何体 -> 逻辑体 -> 物理体\n",
    "\n",
    "- 几何体\n",
    "    - 形状\n",
    "- 逻辑体\n",
    "    - 材料\n",
    "- 物理体\n",
    "    - 位置\n",
    "\n"
   ]
  },
  {
   "cell_type": "markdown",
   "metadata": {},
   "source": [
    "**用户必须继承 G4VUserDetectorConstruction 类来实现探测器的定义**\n",
    "![det1](img/detector1.png)\n",
    "\n",
    "- 必须实现的纯虚函数是G4VPhysicalVolume* Construct();\n",
    "    - 作用：定义空间中所有的探测器\n",
    "- 虚函数 Void ConstructSDandField();\n",
    "    - 作用：定义电磁场、选择数据输出的灵敏体。\n",
    "\n",
    "![det2](img/detector2.png)\n",
    "\n",
    "为了代码的规范及可重复性，我们这里将材料的定义、探测器的定义分离成两个函数。\n",
    "\n",
    "![det3](img/detector3.png)"
   ]
  },
  {
   "cell_type": "markdown",
   "metadata": {},
   "source": [
    "## "
   ]
  },
  {
   "cell_type": "markdown",
   "metadata": {},
   "source": [
    "## 构造几何体\n",
    "\n",
    "\n",
    "\n"
   ]
  },
  {
   "cell_type": "markdown",
   "metadata": {},
   "source": [
    "## 构造逻辑体\n",
    "\n"
   ]
  },
  {
   "cell_type": "markdown",
   "metadata": {},
   "source": [
    "## 构造物理体\n",
    "\n",
    "\n"
   ]
  },
  {
   "cell_type": "markdown",
   "metadata": {},
   "source": [
    "## 物理体之间的层级结构\n",
    "\n",
    "\n",
    "**问题：如何将物理体A放入物理体B的内部？**\n",
    "\n",
    "- 物理体A：Si\n",
    "- 物理体B：C\n",
    "\n",
    "**物理体A与物理体B的重叠部分：？**\n",
    "\n",
    "\n",
    "Geant4:嵌套模型(盒子模型)\n",
    "\n",
    "先定义母体 B，其材质为碳；再定义子体 A，其材质为硅，并声明其母体为 B。那么两者重叠区域材质最终由子体确定。\n",
    "\n",
    "\n",
    "G4中，所有的物理体必须被指定母体。对于最外层的物理体，其母体为空，此物理体称为“World”。\n",
    "\n",
    "\n"
   ]
  }
 ],
 "metadata": {
  "kernelspec": {
   "display_name": "ROOT C++",
   "language": "c++",
   "name": "root"
  },
  "language_info": {
   "codemirror_mode": "text/x-c++src",
   "file_extension": ".C",
   "mimetype": " text/x-c++src",
   "name": "c++"
  }
 },
 "nbformat": 4,
 "nbformat_minor": 2
}
