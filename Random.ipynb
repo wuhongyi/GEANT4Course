{
 "cells": [
  {
   "cell_type": "markdown",
   "metadata": {},
   "source": [
    "# 随机数设置"
   ]
  },
  {
   "cell_type": "markdown",
   "metadata": {},
   "source": [
    "在运行我们前面的模拟代码中，是否发现一个现象\n",
    "\n",
    "- 多次运行模拟程序，每次均跑相同事件数\n",
    "- 生成的数据却是一样的？\n",
    "\n",
    "这将会造成一个问题：如果总共需要模拟 10 亿个事件，分 10 次运行，每次运行 1 亿个事件。那模拟结果将是 1 亿个模拟事件的 10 倍重复。\n",
    "\n",
    "这是因为默认随机数种子是与电脑硬件相关的，每个电脑是一个固定值（不同电脑不同），因此由该随机种子产生的随机数序列每次都一样。避免这个问题的一个简单方式是人为每次设置不同的随机种子。一个简单的方式是随机种子与当前程序执行的时刻相关联，那么不同次运行时的随机种子就不一样。\n"
   ]
  },
  {
   "cell_type": "markdown",
   "metadata": {},
   "source": [
    "\n",
    "**main.cc**\n",
    "\n",
    "\n",
    "\n",
    "```cpp\n",
    "#include \"Randomize.hh\"\n",
    "\n",
    "int main(int argc,char** argv)\n",
    "{\n",
    "  G4Random::setTheEngine(new CLHEP::RanecuEngine);\n",
    "  G4int seconds =  time(NULL);\n",
    "  G4Random::setTheSeed(seconds);\n",
    "    \n",
    "  // 这里省略   \n",
    "}    \n",
    "```\n",
    "\n"
   ]
  },
  {
   "cell_type": "markdown",
   "metadata": {},
   "source": [
    "```bash\n",
    "## 设置运行模拟的事件数\n",
    "/run/beamOn 1000000\n",
    "```\n",
    "\n",
    "```cpp\n",
    "// 设置模拟事件数\n",
    "G4MTRunManager::BeamOn(int ) \n",
    "```\n",
    "\n",
    "由于设置模拟的事件数类型为 int 型，因此一次 Run 最大的事件数为 2147483647。\n",
    "\n",
    "如果某个 4000000000 个事件的模拟，最少需要分成两次 2000000000 的 Run，如果没有设置不同的随机种子，那么一个电脑的这两次模拟的结果将是一样的。\n"
   ]
  },
  {
   "cell_type": "code",
   "execution_count": 1,
   "metadata": {},
   "outputs": [
    {
     "name": "stdout",
     "output_type": "stream",
     "text": [
      "2024年 04月 21日 星期日 18:10:37 CST\n",
      "\n",
      "[NbConvertApp] Converting notebook Random.ipynb to html\n",
      "\n",
      "\n",
      "[NbConvertApp] Writing 563224 bytes to Random.html\n",
      "\n",
      "\n"
     ]
    }
   ],
   "source": [
    "!date\n",
    "!jupyter nbconvert Random.ipynb --to html"
   ]
  }
 ],
 "metadata": {
  "kernelspec": {
   "display_name": "ROOT C++",
   "language": "c++",
   "name": "root"
  },
  "language_info": {
   "codemirror_mode": "text/x-c++src",
   "file_extension": ".C",
   "mimetype": " text/x-c++src",
   "name": "c++"
  }
 },
 "nbformat": 4,
 "nbformat_minor": 4
}
