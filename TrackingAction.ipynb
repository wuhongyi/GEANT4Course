{
 "cells": [
  {
   "cell_type": "markdown",
   "metadata": {},
   "source": [
    "# TrackingAction"
   ]
  },
  {
   "cell_type": "markdown",
   "metadata": {},
   "source": [
    "[StackingAction](StackingAction.html) 中介绍了如何判选一个粒子是否进行模拟。这里\n",
    "\n",
    "\n",
    "```cpp\n",
    "class G4UserTrackingAction\n",
    "{\n",
    "   public:\n",
    "\n",
    "     // Constructor & Destructor\n",
    "     G4UserTrackingAction(){};\n",
    "     virtual ~G4UserTrackingAction(){}\n",
    "\n",
    "     // Member functions\n",
    "     virtual void PreUserTrackingAction(const G4Track*){}\n",
    "     virtual void PostUserTrackingAction(const G4Track*){}\n",
    "\n",
    "   protected:\n",
    "\n",
    "     G4TrackingManager* fpTrackingManager;\n",
    "};\n",
    "```\n"
   ]
  },
  {
   "cell_type": "markdown",
   "metadata": {},
   "source": []
  },
  {
   "cell_type": "code",
   "execution_count": 1,
   "metadata": {},
   "outputs": [
    {
     "name": "stdout",
     "output_type": "stream",
     "text": [
      "2022年 05月 07日 星期六 21:55:42 CST\n",
      "\n",
      "[NbConvertApp] Converting notebook TrackingAction.ipynb to html\n",
      "\n",
      "[NbConvertApp] Writing 561335 bytes to TrackingAction.html\n",
      "\n"
     ]
    }
   ],
   "source": [
    "!date\n",
    "!jupyter nbconvert TrackingAction.ipynb --to html"
   ]
  }
 ],
 "metadata": {
  "kernelspec": {
   "display_name": "ROOT C++",
   "language": "c++",
   "name": "root"
  },
  "language_info": {
   "codemirror_mode": "text/x-c++src",
   "file_extension": ".C",
   "mimetype": " text/x-c++src",
   "name": "c++"
  }
 },
 "nbformat": 4,
 "nbformat_minor": 4
}
