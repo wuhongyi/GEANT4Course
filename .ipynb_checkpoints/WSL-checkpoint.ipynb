{
 "cells": [
  {
   "cell_type": "markdown",
   "metadata": {},
   "source": [
    "# Windows Subsystem for Linux(WSL)"
   ]
  },
  {
   "cell_type": "markdown",
   "metadata": {},
   "source": [
    "## 安装\n",
    "\n",
    "在 windows10 或者 windows11 系统中，打开 **Microsoft Store**，搜索 *wsl*，在结果中寻找 *Ubuntu 20.04.x LTS*，点击进入。\n",
    "\n",
    "![wsl01](img/wsl01.PNG)\n",
    "\n",
    "点击右上角的 *获取*，等待安装结束。\n",
    "\n",
    "![wsl02](img/wsl02.PNG)\n",
    "\n",
    "\n",
    "安装完成之后。首次启动，会提示创建用户。输入用户名，密码\n",
    "\n",
    "![wsl04](img/wsl04.PNG)"
   ]
  },
  {
   "cell_type": "markdown",
   "metadata": {},
   "source": [
    "## 图形界面配置\n",
    "\n",
    "安装 **MobaXterm**，下载地址 https://mobaxterm.mobatek.net/download.html\n",
    "\n",
    "选择免费版本，进入下载页面，有 *便携版* 和 *安装板* 两种可供选择。 *便携版* 即不需要安装，解压之后点击程序即可运行。建议大家使用 *安装版*。\n",
    "\n",
    "![wsl06](img/wsl06.PNG)\n",
    "\n",
    "打开软件，如上图左侧会显示 WSL 系统，双击即自动登陆。\n",
    "\n",
    "\n"
   ]
  },
  {
   "cell_type": "markdown",
   "metadata": {},
   "source": [
    "## 软件配置\n",
    "\n",
    "登陆 WSL 之后，执行以下操作\n",
    "\n",
    "```bash\n",
    "git clone https://github.com/wuhongyi/BasicConfiguration.git\n",
    "```\n",
    "\n",
    "![wsl05](img/wsl05.PNG)\n",
    "\n",
    "执行以上指令之后，会下载 *BasicConfiguration* 文件夹，依次执行以下指令\n",
    "\n",
    "```bash\n",
    "cd BasicConfiguration/Ubuntu\n",
    "sudo sh autoaddsource.sh\n",
    "sudo sh autoinstallapt.sh\n",
    "sudo sh autoinstallpip.sh\n",
    "\n",
    "\n",
    "sudo sh autoinstallroot624.sh\n",
    "```\n",
    "\n",
    "安装之后将 以下添加在 .bashrc 文件中\n",
    "\n",
    "source /opt/ROOT/root62402/bin/thisroot.sh\n",
    "\n",
    "\n",
    "同理可自动化安装 GEANT4\n"
   ]
  },
  {
   "cell_type": "markdown",
   "metadata": {},
   "source": [
    "## 常见错误\n",
    "\n",
    "![wsl03](img/wsl03.PNG)\n",
    "\n",
    "\n",
    "出现这个error的原因是：未安装Windows子系统支持。\n",
    "\n",
    "解决办法：\n",
    "\n",
    "- win+x，选择Windows PowerShell（管理员）\n",
    "- 输入：Enable-WindowsOptionalFeature -Online -FeatureName Microsoft-Windows-Subsystem-Linux\n",
    "- 回车，输入Y，等待安装结束\n",
    "- 重启电脑\n",
    "\n",
    "重新打开已经安装的子系统，等几分钟，输入账户和密码。\n",
    "\n",
    "解决方法参考 https://blog.csdn.net/qq_37085158/article/details/125172803\n"
   ]
  },
  {
   "cell_type": "markdown",
   "metadata": {},
   "source": [
    "## 关于不能启动 GEANT4/Qt 应用的问题\n",
    "\n",
    "问题的原因，在于 Ubuntu 20.04 的自带 QtCore 会搜索 Linux 内核的某个特性，在不符合的情况下认为自己不可用。然而 WSL1 本身并不使用 Linux 内核。\n",
    "\n",
    "所以问题就会表现为：找不到 libQtCore 。\n",
    "\n",
    "\n",
    "解决办法是删除 libQtCore 中的相关代码：\n",
    "\n",
    "```bash\n",
    "sudo strip --remove-section=.note.ABI-tag /usr/lib/x86_64-linux-gnu/libQt5Core.so.5\n",
    "```"
   ]
  },
  {
   "cell_type": "markdown",
   "metadata": {},
   "source": [
    "https://blog.csdn.net/yzpbright/article/details/122861236\n",
    "\n",
    "https://docs.microsoft.com/zh-cn/windows/wsl/tutorials/gui-apps?source=recommendations\n"
   ]
  },
  {
   "cell_type": "code",
   "execution_count": null,
   "metadata": {},
   "outputs": [],
   "source": []
  },
  {
   "cell_type": "code",
   "execution_count": 1,
   "metadata": {},
   "outputs": [
    {
     "name": "stdout",
     "output_type": "stream",
     "text": [
      "2024年 04月 21日 星期日 14:57:34 CST\n",
      "\n",
      "[NbConvertApp] Converting notebook WSL.ipynb to html\n",
      "\n",
      "[NbConvertApp] Writing 564078 bytes to WSL.html\n",
      "\n"
     ]
    }
   ],
   "source": [
    "!date\n",
    "!jupyter nbconvert WSL.ipynb --to html"
   ]
  }
 ],
 "metadata": {
  "kernelspec": {
   "display_name": "ROOT C++",
   "language": "c++",
   "name": "root"
  },
  "language_info": {
   "codemirror_mode": "text/x-c++src",
   "file_extension": ".C",
   "mimetype": " text/x-c++src",
   "name": "c++"
  }
 },
 "nbformat": 4,
 "nbformat_minor": 4
}
