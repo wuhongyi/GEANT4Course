{
 "cells": [
  {
   "cell_type": "markdown",
   "metadata": {},
   "source": [
    "# 程序框架"
   ]
  },
  {
   "cell_type": "markdown",
   "metadata": {},
   "source": [
    "- 本教程目的在于教授 G4 的基本运行原理，以及如何快速应用到\n",
    "- 刻意放弃一些类（功能）的使用，例如 SD，hist\n",
    "- 模拟与数据处理分离\n",
    "    - 为何模拟与数据处理必须分离？\n",
    "    - G4程序只负责模拟部分（一次运行）\n",
    "    - 基于 MakeClass 等框架的数据分析（可重复处理）"
   ]
  },
  {
   "cell_type": "markdown",
   "metadata": {},
   "source": [
    "## 运行需要的基本类\n",
    "\n",
    "- DetectorConstruction: 继承自G4VUserDetectorConstruction\n",
    "- PhysicsList: 继承自G4VModularPhysicsList\n",
    "- ActionInitialization: 继承自G4VUserActionInitialization\n",
    "    - PrimaryGeneratorAction: 继承自G4VUserPrimaryGeneratorAction\n",
    "    - RunAction:继承自G4UserRunAction\n",
    "    - EventAction:继承自G4UserEventAction\n",
    "    - TrackingAction:继承自G4UserTrackingAction\n",
    "    - SteppingAction:继承自G4UserSteppingAction\n",
    "    - StackingAction:继承自G4UserStackingAction\n",
    "\n",
    "其中，**DetectorConstruction**，**PhysicsList**，**ActionInitialization**，**PrimaryGeneratorAction** 四个类不可缺少，其余几个类根据情况选择使用。\n",
    "\n",
    "使用者必须熟练掌握探测器的几何设置 **DetectorConstruction** 和粒子源的设置 **PrimaryGeneratorAction** 两个类。"
   ]
  },
  {
   "cell_type": "markdown",
   "metadata": {},
   "source": []
  },
  {
   "cell_type": "code",
   "execution_count": null,
   "metadata": {},
   "outputs": [],
   "source": []
  },
  {
   "cell_type": "code",
   "execution_count": null,
   "metadata": {},
   "outputs": [],
   "source": []
  },
  {
   "cell_type": "markdown",
   "metadata": {},
   "source": [
    "## 单位系统\n",
    "\n",
    "G4可以进行单位换算，实质上是一些全局变量（G4SystemOfUnits.hh）\n",
    "\n",
    "\n",
    "- 长度：um, mm, cm, m, km\n",
    "- 能量：eV, keV, MeV\n",
    "- 质量：mg, g, kg\n",
    "- 摩尔质量: mole,\n",
    "- 体积：mm3, cm3, m3, km3\n",
    "- 时间：ns, s\n",
    "- 电荷量：eplus\n",
    "\n",
    "其中，默认单位为：mm, MeV, g, mole, ns, eplus，即如果没有写单位，则为默认单位。\n",
    "\n",
    "\n",
    "例如:\n",
    "\n",
    "```cpp\n",
    "double x = 5.0*m;\n",
    "double y = 4.0*m;\n",
    "double z = 3.0*m;\n",
    "```\n"
   ]
  },
  {
   "cell_type": "code",
   "execution_count": null,
   "metadata": {},
   "outputs": [],
   "source": []
  },
  {
   "cell_type": "markdown",
   "metadata": {},
   "source": [
    "- G4MTRunManager::Initialize()调用后，初始化G4内核\n",
    "- G4MTRunManager::BeamOn()调用后，开始一次 G4Run\n",
    "\n",
    "![111](img/RunEventTrackStep.png#pic_left)\n",
    "\n",
    "- 一次BeamOn调用就是一次G4Run; 一次G4Run过程中，探测器设置和物理过程不可修改。\n",
    "- BeamOn(1000) : 一次G4Run中，发射1000个事件（G4Event）\n",
    "- 一个粒子的产生到该粒子停止追踪，径迹信息由同一个G4Track记录\n",
    "- 在一个步长中，粒子信息该变量由G4Step记录\n",
    "\n"
   ]
  },
  {
   "cell_type": "markdown",
   "metadata": {},
   "source": [
    "- G4Step包括两个“点”：PreStepPoint，PostStepPoint（对应class均为G4StepPoint）。\n",
    "- PreStepPoint容纳物理过程发生前该粒子的状态（动能，电荷量等），\n",
    "- PostStepPoint容纳物理过程发生后该粒子的状态。\n",
    "- G4Step中保存的是这两“点”的粒子属性改变量（deltaE等）\n",
    "\n",
    "\n",
    "- 步长：由该step的物理过程决定。\n",
    "- 边界：step不能穿过两个物理体的边界，即边界上必须存在一个steppoint。此时step的status为fGeomBoundary\n",
    "\n",
    "- G4Track：定义为粒子当前的状态（与PostStepPoint容纳的信息一致）。\n",
    "- 每个G4Step调用后，G4Track信息更新。\n",
    "- Track ID: ID编号从1开始，每个track中也记录其父粒子的track ID。\n",
    "- 初级粒子（particlegun 发射的粒子）的父粒子Track ID为0\n",
    "\n"
   ]
  },
  {
   "cell_type": "markdown",
   "metadata": {},
   "source": [
    "**提取物理量的接口：UserAction,  G4VSensitiveDetector**\n",
    "\n",
    "- G4UserSteppingAction\n",
    "    - UserSteppingAction(const G4Step*)\n",
    "- G4UserTrackingAction\n",
    "    - PreUserTrackingAction(const G4Track *)\n",
    "    - PostUserTrackingAction(const G4Track *)\n",
    "- G4UserEventAction\n",
    "    - BeginOfEventAction()\n",
    "    - EndOfEventAction()\n",
    "- G4UserRunAction\n",
    "    - BeginOfRunAction()\n",
    "    - EndOfRunAction()\n",
    "\n",
    "\n",
    "Example : \n",
    "- RunAction ：记录并输出程序运行时间、创建文件\n",
    "- EventAction : 输出进度、SD得到该事件的所有数据\n",
    "- TrackingAction : 输出每个track的初始信息、遗传标记、杀死次级粒子\n",
    "- SteppingAction : 获得该step的所有数据\n"
   ]
  },
  {
   "cell_type": "code",
   "execution_count": 1,
   "metadata": {},
   "outputs": [
    {
     "name": "stdout",
     "output_type": "stream",
     "text": [
      "[NbConvertApp] Converting notebook MAIN.ipynb to html\n",
      "\n",
      "[NbConvertApp] Writing 573813 bytes to MAIN.html\n",
      "\n"
     ]
    }
   ],
   "source": [
    "!jupyter nbconvert FRAME.ipynb --to html"
   ]
  }
 ],
 "metadata": {
  "kernelspec": {
   "display_name": "ROOT C++",
   "language": "c++",
   "name": "root"
  },
  "language_info": {
   "codemirror_mode": "text/x-c++src",
   "file_extension": ".C",
   "mimetype": " text/x-c++src",
   "name": "c++"
  }
 },
 "nbformat": 4,
 "nbformat_minor": 2
}
