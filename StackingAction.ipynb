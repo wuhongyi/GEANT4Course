{
 "cells": [
  {
   "cell_type": "markdown",
   "metadata": {},
   "source": [
    "# StackingAction"
   ]
  },
  {
   "cell_type": "markdown",
   "metadata": {},
   "source": [
    "前面介绍的 [RunAction](RunAction.html) 和 [StepingAction](StepingAction.html) 都只能用来提取数据，不能改变粒子的模拟状态，而这里 StackingAction 则可以改变粒子模拟的先后顺序，甚至直接 kill 该粒子。\n",
    "\n",
    "\n",
    "```cpp\n",
    "#include \"G4ClassificationOfNewTrack.hh\"\n",
    "\n",
    "class G4UserStackingAction\n",
    "{\n",
    "  public:\n",
    "      G4UserStackingAction();\n",
    "      virtual ~G4UserStackingAction();\n",
    "  protected:\n",
    "      G4StackManager * stackManager;\n",
    "\n",
    "  public:\n",
    "//---------------------------------------------------------------\n",
    "// virtual methods to be implemented by user\n",
    "//---------------------------------------------------------------\n",
    "//\n",
    "      virtual G4ClassificationOfNewTrack ClassifyNewTrack(const G4Track*);\n",
    "      virtual void NewStage();\n",
    "      virtual void PrepareNewEvent();\n",
    "};\n",
    "```\n",
    "\n",
    "这个类有三个虚函数，ClassifyNewTrack、NewStage 和 PrepareNewEvent，用户可以重写它们来控制各种模拟 track 堆叠机制。\n",
    "\n",
    "每当 G4EventManager 将新的 G4Track 对象 “推” 到堆栈上时，G4StackManager 就会调用 ClassifyNewTrack()。ClassifyNewTrack() 返回枚举器 G4ClassificationOfNewTrack，其值指示 track 将发送到哪个堆栈（如果有）。该值应由用户确定。\n",
    "\n",
    "\n",
    "G4ClassificationOfNewTrack 有四个可能的值：\n",
    "\n",
    "- fUrgent (track 被放置在紧急堆栈中)\n",
    "    - 优先模拟\n",
    "- fWaiting (track 被放置在等待堆栈中，在紧急堆栈为空之前不会被模拟)\n",
    "- fPostpone (track 将推迟到下一个 event)\n",
    "- fKill (track 会立即删除，不会存储在任何堆栈中)\n",
    "    - 主要用来剔除不关心的粒子\n",
    "    - 加快模拟进度\n"
   ]
  },
  {
   "cell_type": "markdown",
   "metadata": {},
   "source": [
    "## ClassifyNewTrack\n",
    "\n",
    "```cpp\n",
    "#include \"G4VProcess.hh\"\n",
    "\n",
    "G4ClassificationOfNewTrack wuStackingActionAll::ClassifyNewTrack(const G4Track* aTrack)\n",
    "{\n",
    "  G4int parent_ID = aTrack->get_parentID();\n",
    "  //      parent_ID = 0 : primary particle\n",
    "  //                > 0 : secondary particle\n",
    "  //                < 0 : postponed from the previous event    \n",
    "    \n",
    "    \n",
    "  return fUrgent;\n",
    "}\n",
    "```\n",
    "\n",
    "**典型示例**\n",
    "\n",
    "```cpp\n",
    "  // 保留初级粒子\n",
    "  if (aTrack->GetParentID() == 0) return fUrgent;\n",
    "\n",
    "  // 杀掉所有次级粒子 \n",
    "  return fKill;\n",
    "```\n",
    "\n",
    "**常用筛选条件**\n",
    "\n",
    "```cpp\n",
    "\n",
    " // 需要添加头文件\n",
    "#include \"G4VProcess.hh\"\n",
    "\n",
    " G4String PName = aTrack->GetDefinition()->GetParticleName();\n",
    "\n",
    " G4int TrackID = aTrack->GetTrackID();\n",
    " G4int ParentID = aTrack->GetParentID();\n",
    "\n",
    " G4String CreatorProcess;\n",
    " const G4VProcess* pcr = aTrack->GetCreatorProcess();\n",
    " if(pcr) CreatorProcess = pcr->GetProcessName();\n",
    " else CreatorProcess = \"##\";\n",
    "\n",
    "```\n",
    "\n",
    "```cpp\n",
    " // 不模拟所有非中子粒子\n",
    " if(PName[0] != 'n') return fKill;\n",
    " return fUrgent;\n",
    "```\n"
   ]
  },
  {
   "cell_type": "markdown",
   "metadata": {},
   "source": [
    "## NewStage\n",
    "\n",
    "**这里不介绍**\n",
    "\n",
    "\n",
    "## PrepareNewEvent\n",
    "\n",
    "**这里不介绍**"
   ]
  },
  {
   "cell_type": "code",
   "execution_count": 1,
   "metadata": {},
   "outputs": [
    {
     "name": "stdout",
     "output_type": "stream",
     "text": [
      "2022年 05月 07日 星期六 21:14:19 CST\n",
      "\n",
      "[NbConvertApp] Converting notebook StackingAction.ipynb to html\n",
      "[NbConvertApp] Writing 568414 bytes to StackingAction.html\n",
      "\n"
     ]
    }
   ],
   "source": [
    "!date\n",
    "!jupyter nbconvert StackingAction.ipynb --to html"
   ]
  }
 ],
 "metadata": {
  "kernelspec": {
   "display_name": "ROOT C++",
   "language": "c++",
   "name": "root"
  },
  "language_info": {
   "codemirror_mode": "text/x-c++src",
   "file_extension": ".C",
   "mimetype": " text/x-c++src",
   "name": "c++"
  }
 },
 "nbformat": 4,
 "nbformat_minor": 4
}
