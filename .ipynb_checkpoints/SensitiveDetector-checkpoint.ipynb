{
 "cells": [
  {
   "cell_type": "markdown",
   "metadata": {},
   "source": [
    "# SensitiveDetector"
   ]
  },
  {
   "cell_type": "markdown",
   "metadata": {},
   "source": [
    "通过 G4UserSteppingAction 中的函数 UserSteppingAction(const G4Step*) 可以获得模拟中每个 step 的信息。但是当我们的模拟阵列比较复杂，且我们感兴趣的探测器数量又比较少时，SensitiveDetector 提供一种机制，当模拟发生在我们指定的逻辑体内部时，我们才获取该 step 的信息。\n",
    "\n",
    "\n",
    "\n"
   ]
  },
  {
   "cell_type": "markdown",
   "metadata": {},
   "source": [
    "## G4VSensitiveDetector\n",
    "\n",
    "灵敏探测器继承抽象基类 G4VSensitiveDetector\n",
    "\n",
    "![picsd1](img/G4VSensitiveDetector.png)\n",
    "\n",
    "\n",
    "必须实现的纯虚函数为 G4bool ProcessHits(G4Step* aStep, G4TouchableHistory* ROhist)，可以简单将其理解为处理模拟的 step 数据。\n"
   ]
  },
  {
   "cell_type": "markdown",
   "metadata": {},
   "source": [
    "```cpp\n",
    "class wuSensitiveDetector : public G4VSensitiveDetector\n",
    "{\n",
    "public:\n",
    "  wuSensitiveDetector(G4String name);\n",
    "  virtual ~wuSensitiveDetector();\n",
    "\n",
    "public:\n",
    "  //  These two methods are invoked at the begining and at the end of each\n",
    "  // event. The hits collection(s) created by this sensitive detector must\n",
    "  // be set to the G4HCofThisEvent object at one of these two methods.\n",
    "  void Initialize(G4HCofThisEvent*);\n",
    "  void EndOfEvent(G4HCofThisEvent*);\n",
    "\n",
    "protected: \n",
    "  //  The user MUST implement this method for generating hit(s) using the\n",
    "  // information of G4Step object. Note that the volume and the position\n",
    "  // information is kept in PreStepPoint of G4Step.\n",
    "  //  Be aware that this method is a protected method and it sill be invoked\n",
    "  // by Hit() method of Base class after Readout geometry associated to the\n",
    "  // sensitive detector is handled.\n",
    "  //  \"ROhist\" will be given only is a Readout geometry is defined to this\n",
    "  // sensitive detector. The G4TouchableHistory object of the tracking geometry\n",
    "  // is stored in the PreStepPoint object of G4Step.\n",
    "  G4bool ProcessHits(G4Step*, G4TouchableHistory*);\n",
    "\n",
    "  \n",
    "private:\n",
    "  wuHitCollection* hitsCollection;\n",
    "  G4int HCID; //hits collection ID\n",
    "\n",
    "\n",
    "private:\n",
    "\n",
    "};\n",
    "```\n",
    "\n",
    "\n",
    "\n",
    "![picsd2](img/processhits.png)\n",
    "\n",
    "**ProcessHits** 函数中，又是大家熟悉的 UserSteppingAction(const G4Step*) 中获得各种数据，这里我们同样将可能用到的数据全部罗列出来。在灵敏探测器中，通常将每个 step 的数据暂存在 G4VHit 中，等到当前 Event 模拟结束，再统一进行数据筛选以及数据存储。\n"
   ]
  },
  {
   "cell_type": "markdown",
   "metadata": {},
   "source": [
    "## G4VHit\n",
    "\n",
    "G4 中，提供 G4VHit 基类，用户继承该类来实现 step 所有信息的暂存。类 G4THitsCollection 实现了容器来存放 hit。\n",
    "\n",
    "- Hit：记录 SD 中每个 G4Step 中的信息，因此一个 SD 中将产生多个 Hit 对象。\n",
    "- HitCollection：一个 SD 中产生的 Hit，可以被记录在一个或者多个容器中， 该容器即为 HitCollection 对象。\n",
    "\n",
    "\n",
    "![picsd3](img/wuhit.png)\n",
    "\n",
    "数据的 Set/Get 函数，方便数据暂存以及读取。\n",
    "\n"
   ]
  },
  {
   "cell_type": "code",
   "execution_count": null,
   "metadata": {},
   "outputs": [],
   "source": []
  },
  {
   "cell_type": "markdown",
   "metadata": {},
   "source": [
    "## 定义灵敏探测器\n",
    "\n",
    "G4VSensitiveDetector 对象可以被分配给 G4LogicalVolume，为了方便进行灵敏探测器的指定，我们在 **wuDetectorConstruction.cc** 中封装了一个函数，\n",
    "\n",
    "```cpp\n",
    "void wuDetectorConstruction::BuildSensitiveDetector(G4LogicalVolume* lv)\n",
    "{\n",
    "  if(!lv)\n",
    "    {\n",
    "      G4cout << \"$$No logical volume, no SD built\" << G4endl;\n",
    "      return;\n",
    "    }\n",
    "  G4SDManager* SDman = G4SDManager::GetSDMpointer();\n",
    "  wuSensitiveDetector* sd1 = new wuSensitiveDetector(lv->GetName()); //\n",
    "  SDman->AddNewDetector(sd1);\n",
    "  lv->SetSensitiveDetector(sd1);\n",
    "}\n",
    "```\n",
    "\n",
    "在函数 **ConstructSDandField()** 中调用我们封装的函数来指定灵敏探测器。\n",
    "\n",
    "```cpp\n",
    "void wuDetectorConstruction::ConstructSDandField()\n",
    "{\n",
    "  //快速添加SD\n",
    "  // BuildSensitiveDetector(logicWorld);\n",
    "\n",
    "  // 如果采用 SD 输出，则关闭 step 输出\n",
    "\n",
    "  BuildSensitiveDetector(logicDSSD);\n",
    "  BuildSensitiveDetector(logicClover);\n",
    " \n",
    "}\n",
    "```\n",
    "\n",
    " "
   ]
  },
  {
   "cell_type": "code",
   "execution_count": null,
   "metadata": {},
   "outputs": [],
   "source": []
  },
  {
   "cell_type": "code",
   "execution_count": 1,
   "metadata": {},
   "outputs": [
    {
     "name": "stdout",
     "output_type": "stream",
     "text": [
      "2024年 05月 19日 星期日 16:23:48 CST\n",
      "\n",
      "[NbConvertApp] Converting notebook SensitiveDetector.ipynb to html\n",
      "\n",
      "[NbConvertApp] Writing 569785 bytes to SensitiveDetector.html\n",
      "\n"
     ]
    }
   ],
   "source": [
    "!date\n",
    "!jupyter nbconvert SensitiveDetector.ipynb --to html"
   ]
  }
 ],
 "metadata": {
  "kernelspec": {
   "display_name": "ROOT C++",
   "language": "c++",
   "name": "root"
  },
  "language_info": {
   "codemirror_mode": "text/x-c++src",
   "file_extension": ".C",
   "mimetype": " text/x-c++src",
   "name": "c++"
  }
 },
 "nbformat": 4,
 "nbformat_minor": 4
}
