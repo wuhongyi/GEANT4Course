{
 "cells": [
  {
   "cell_type": "markdown",
   "metadata": {},
   "source": [
    "# 粒子源定义\n",
    "\n"
   ]
  },
  {
   "cell_type": "markdown",
   "metadata": {},
   "source": [
    "用户必须继承抽象基类 G4VUserPrimaryGeneratorAction 来实现粒子源的定义（实现纯虚函数 GeneratePrimaries(G4Eent*)）\n",
    "\n",
    "![gun1](img/gun1.png)\n",
    "\n",
    "\n",
    "**建议大家使用 *G4ParticleGun* ，能够实现灵活度最大化。不建议使用 *G4GeneralParticleSource* 输入卡的方式。** \n"
   ]
  },
  {
   "cell_type": "markdown",
   "metadata": {},
   "source": [
    "\n",
    "\n",
    "\n",
    "\n",
    "\n"
   ]
  },
  {
   "cell_type": "markdown",
   "metadata": {},
   "source": [
    "## 粒子发射枪\n",
    "\n",
    "初始化 G4ParticleGun ，以下两行代码通常放在构造函数中。\n",
    "\n",
    "```cpp\n",
    "G4int n_particle = 1;\n",
    "particleGun = new G4ParticleGun(n_particle);\n",
    "// 一次发射具有相同属性的 n_particle 个粒子\n",
    "// 通常设置为 1\n",
    "```\n"
   ]
  },
  {
   "cell_type": "markdown",
   "metadata": {},
   "source": [
    "## 粒子定义种类\n",
    "\n",
    "```cpp\n",
    "// 方法一：声明常用粒子\n",
    "G4ParticleTable* particleTable=G4ParticleTable::GetParticleTable();\n",
    "G4ParticleDefinition* particle=particleTable->FindParticle(\"alpha\"); \n",
    "//“e-”,“e+”,“gamma”,“neutron”,“proton”,…\n",
    "\n",
    "// 方法二：声明离子\n",
    "G4IonTable *particleTable=G4IonTable::GetIonTable();\n",
    "G4ParticleDefinition *particle=particleTable->GetIon(2,4,0.0); //alpha, z,a,ex\n",
    "\n",
    "\n",
    "particleGun->SetParticleDefinition(particle)\n",
    "```\n",
    "\n",
    "![gun2](img/gun2.png)\n"
   ]
  },
  {
   "cell_type": "markdown",
   "metadata": {},
   "source": [
    "## 粒子属性\n",
    "\n",
    "```cpp\n",
    "particleGun->SetParticleCharge(0.);    //电荷态，EM 物理过程自动修正\n",
    "particleGun->SetParticleEnergy(5.42*MeV);  //动能\n",
    "particleGun->SetParticleTime(0.); //时间\n",
    "particleGun->SetParticlePosition(G4ThreeVector(0.,0.,0.)); //初始位置\n",
    "particleGun->SetParticleMomentumDirection(G4ThreeVector(0.,0.,1.));//动量方向\n",
    "//particleGun->SetParticleMomentum(G4ParticleMomentum);//动量\n",
    "//particleGun->SetParticlePolarization(G4ThreeVector);  //极化方向\n",
    "```\n",
    "\n",
    "![gun3](img/gun3.png)"
   ]
  },
  {
   "cell_type": "markdown",
   "metadata": {},
   "source": [
    "## 粒子发射\n",
    "\n",
    "```cpp\n",
    "particleGun->GeneratePrimaryVertex(anEvent);\n",
    "// 只有调用了以上代码，才能使该行代码之前的粒子属性设置生效\n",
    "```\n",
    "\n",
    "**如果一个事件中发射多个粒子**\n",
    "\n",
    "```cpp\n",
    "// ... code 1\n",
    "// 这里代码省略\n",
    "particleGun->GeneratePrimaryVertex(anEvent);\n",
    "\n",
    "// ... code 2\n",
    "// 这里代码省略\n",
    "particleGun->GeneratePrimaryVertex(anEvent);\n",
    "\n",
    "```\n",
    "\n",
    "\n"
   ]
  },
  {
   "cell_type": "markdown",
   "metadata": {},
   "source": [
    "## 参考代码\n",
    "\n",
    "- gamma 粒子\n",
    "- 能量 2 MeV\n",
    "- 在 50*50 mm 区域内均匀分布\n",
    "- 4pi 各向同性 \n",
    "\n",
    "```cpp\n",
    "void wuPrimaryGeneratorActionAll::GeneratePrimaries(G4Event* anEvent)\n",
    "{\n",
    "  G4ParticleTable* particleTable = G4ParticleTable::GetParticleTable();\n",
    "  G4ParticleDefinition* pp = 0;\n",
    "  pp = particleTable->FindParticle(\"gamma\");\n",
    "\n",
    "  if(pp)\n",
    "    particleGun->SetParticleDefinition(pp);\n",
    "  else\n",
    "    G4cout<<\"##Null pp in wuPrimaryGeneratorAction::SetParticleGun()\"<<G4endl;\n",
    "    \n",
    "  particleGun->SetParticleEnergy(2.0*MeV);  \n",
    "    \n",
    "  // 在 50*50 mm 区域内均匀分布  \n",
    "  G4double x = (G4UniformRand()-0.5)*50*mm;\n",
    "  G4double y = (G4UniformRand()-0.5)*50*mm;\n",
    "  G4double z = 0.;    \n",
    "  particleGun->SetParticlePosition(G4ThreeVector(x, y, z));  \n",
    "  \n",
    "  // 4pi 各向同性  \n",
    "  G4double theta= acos(（G4UniformRand()-0.5）*2);\n",
    "  G4double phi = G4UniformRand()*2.0*pi;\n",
    "  G4double cosPX = sin(theta)*cos(phi);\n",
    "  G4double cosPY = sin(theta)*sin(phi);\n",
    "  G4double cosPZ = cos(theta);\n",
    "  G4ThreeVector directPri(cosPX, cosPY, cosPZ);    \n",
    "  particleGun->SetParticleMomentumDirection(directPri);  \n",
    "    \n",
    "  particleGun->GeneratePrimaryVertex(anEvent);  \n",
    "}\n",
    "```\n",
    "\n",
    "\n",
    "- 12C/p 两粒子\n",
    "- 各自能量 2-10 MeV\n",
    "- 在 50*50 mm 区域内均匀分布(同一位置)\n",
    "- 4pi 各向同性，两粒子方向相反 \n",
    "\n",
    "```cpp\n",
    "void wuPrimaryGeneratorActionAll::GeneratePrimaries(G4Event* anEvent)\n",
    "{\n",
    "  G4ParticleTable* particleTable = G4ParticleTable::GetParticleTable();\n",
    "  G4ParticleDefinition* pp = 0;\n",
    "    \n",
    "    \n",
    "  pp = particleTable->FindParticle(\"proton\");\n",
    "\n",
    "  if(pp)\n",
    "    particleGun->SetParticleDefinition(pp);\n",
    "  else\n",
    "    G4cout<<\"##Null pp in wuPrimaryGeneratorAction::SetParticleGun()\"<<G4endl;\n",
    "    \n",
    "  particleGun->SetParticleEnergy((2.0+8*G4UniformRand())*MeV);  \n",
    "    \n",
    "  // 在 50*50 mm 区域内均匀分布  \n",
    "  G4double x = (G4UniformRand()-0.5)*50*mm;\n",
    "  G4double y = (G4UniformRand()-0.5)*50*mm;\n",
    "  G4double z = 0.;    \n",
    "  particleGun->SetParticlePosition(G4ThreeVector(x, y, z));  \n",
    "  \n",
    "  // 4pi 各向同性  \n",
    "  G4double theta= acos(（G4UniformRand()-0.5）*2);\n",
    "  G4double phi = G4UniformRand()*2.0*pi;\n",
    "  G4double cosPX = sin(theta)*cos(phi);\n",
    "  G4double cosPY = sin(theta)*sin(phi);\n",
    "  G4double cosPZ = cos(theta);\n",
    "  G4ThreeVector directPri(cosPX, cosPY, cosPZ);    \n",
    "  particleGun->SetParticleMomentumDirection(directPri);  \n",
    "    \n",
    "  // 发射第一个粒子  \n",
    "  particleGun->GeneratePrimaryVertex(anEvent);  \n",
    "    \n",
    "  G4int IonZ = 6;\n",
    "  G4int IonA = 12;\n",
    "  G4double IonEstar = 0.0; //exitition energy\n",
    "  G4double IonQ = 6;\n",
    "  G4cout<<\"ion:Z-A-Q-E*\"<<IonZ<<\" \"<<IonA<<\" \"<<IonQ<<\" \"<<IonEstar<<G4endl;\n",
    "  pp = particleTable->GetIonTable()->GetIon(IonZ, IonA, IonEstar);//4.10.01版本强制 G4IonTable.hh\n",
    "  // particleGun->SetParticleCharge(IonQ);\n",
    "    \n",
    "  articleGun->SetParticleEnergy((2.0+8*G4UniformRand())*MeV);  \n",
    "  particleGun->SetParticlePosition(G4ThreeVector(x, y, z));  \n",
    "  particleGun->SetParticleMomentumDirection(-directPri);    \n",
    "    \n",
    "  // 发射第二个粒子   \n",
    "  particleGun->GeneratePrimaryVertex(anEvent);  \n",
    "}\n",
    "```\n",
    "\n",
    "\n"
   ]
  },
  {
   "cell_type": "code",
   "execution_count": 1,
   "metadata": {},
   "outputs": [
    {
     "name": "stdout",
     "output_type": "stream",
     "text": [
      "[NbConvertApp] Converting notebook PrimaryGeneratorAction.ipynb to html\n",
      "\n",
      "[NbConvertApp] Writing 585317 bytes to PrimaryGeneratorAction.html\n",
      "\n"
     ]
    }
   ],
   "source": [
    "!jupyter nbconvert PrimaryGeneratorAction.ipynb --to html"
   ]
  }
 ],
 "metadata": {
  "kernelspec": {
   "display_name": "ROOT C++",
   "language": "c++",
   "name": "root"
  },
  "language_info": {
   "codemirror_mode": "text/x-c++src",
   "file_extension": ".C",
   "mimetype": " text/x-c++src",
   "name": "c++"
  }
 },
 "nbformat": 4,
 "nbformat_minor": 2
}
