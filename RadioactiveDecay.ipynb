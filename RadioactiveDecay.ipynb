{
 "cells": [
  {
   "cell_type": "markdown",
   "metadata": {},
   "source": [
    "# RadioactiveDecay\n"
   ]
  },
  {
   "cell_type": "markdown",
   "metadata": {},
   "source": [
    "GEANT4 安装的数据库中，有一个文件夹 **RadioactiveDecay5.x**，里面文件格式 z[xx].a[xx]，每个文件对应一个核素，z 后面的数值为其质子数，a 后面的数值为核子数。\n",
    "\n",
    "我们以 *60Co* 为例，\n",
    "\n",
    "![picrd1](img/radioactibedecayz27a60.png)\n",
    "\n",
    "该数据库为给定原子核的衰变信息。\n",
    "\n"
   ]
  },
  {
   "cell_type": "markdown",
   "metadata": {},
   "source": [
    "\n",
    "在每个文件中，以 “#” 开头的行都是注释。\n",
    "\n",
    "以 “P” 开头的行是数据头，表示原子核的激发态/基态，它可能是进一步衰变的母核。“P” 之后的第一个数字是以 keV 为单位的激发能，后面跟着一个表示浮动能级的字符。如果这是符号 “-”，则假定该能级是固定的；如果是 +X、+Y、+Z、+W、+U 或 +V，则能级是浮动的或未确定的。之后的数字是半衰期（秒）。\n",
    "\n",
    "“P” 行下的缩进行是该态的衰变方式。这里有几种类型的记录，按列数区分。第一列为衰变模式；第二列为子核激发能；第三列为能级是否浮动(可为空)；第四列为衰变分支比；第五列为 Q；在 β- 或 β+ 衰变的模式下，通常会有第六列描述特定衰变道的“禁戒”。这由标签firstForbidden、secondForbidder、thirdForbidded、uniqueFirstForbiddent、uniqueSecondForbiddend、uniqueThirdForbid表示，它们决定了 β 能谱的形状。\n"
   ]
  },
  {
   "cell_type": "markdown",
   "metadata": {},
   "source": [
    "## 添加用户数据\n",
    "\n",
    "\n"
   ]
  },
  {
   "cell_type": "markdown",
   "metadata": {},
   "source": [
    "## 示例\n",
    "\n",
    "\n"
   ]
  },
  {
   "cell_type": "code",
   "execution_count": 1,
   "metadata": {},
   "outputs": [
    {
     "name": "stdout",
     "output_type": "stream",
     "text": [
      "2024年 05月 03日 星期五 01:32:07 CST\n",
      "\n",
      "[NbConvertApp] Converting notebook RadioactiveDecay.ipynb to html\n",
      "\n",
      "[NbConvertApp] Writing 560848 bytes to RadioactiveDecay.html\n",
      "\n"
     ]
    }
   ],
   "source": [
    "!date\n",
    "!jupyter nbconvert RadioactiveDecay.ipynb --to html"
   ]
  }
 ],
 "metadata": {
  "kernelspec": {
   "display_name": "ROOT C++",
   "language": "c++",
   "name": "root"
  },
  "language_info": {
   "codemirror_mode": "text/x-c++src",
   "file_extension": ".C",
   "mimetype": " text/x-c++src",
   "name": "c++"
  }
 },
 "nbformat": 4,
 "nbformat_minor": 4
}
