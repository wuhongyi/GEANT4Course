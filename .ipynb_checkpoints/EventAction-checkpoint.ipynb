{
 "cells": [
  {
   "cell_type": "markdown",
   "metadata": {},
   "source": [
    "# EventAction"
   ]
  },
  {
   "cell_type": "markdown",
   "metadata": {},
   "source": [
    "**第三次课程讲**"
   ]
  },
  {
   "cell_type": "code",
   "execution_count": null,
   "metadata": {},
   "outputs": [],
   "source": []
  },
  {
   "cell_type": "code",
   "execution_count": 1,
   "metadata": {},
   "outputs": [
    {
     "name": "stdout",
     "output_type": "stream",
     "text": [
      "2022年 05月 07日 星期六 21:26:26 CST\n",
      "\n",
      "[NbConvertApp] Converting notebook EventAction.ipynb to html\n",
      "\n",
      "\n",
      "[NbConvertApp] Writing 559629 bytes to EventAction.html\n",
      "\n",
      "\n"
     ]
    }
   ],
   "source": [
    "!date\n",
    "!jupyter nbconvert EventAction.ipynb --to html"
   ]
  }
 ],
 "metadata": {
  "kernelspec": {
   "display_name": "ROOT C++",
   "language": "c++",
   "name": "root"
  },
  "language_info": {
   "codemirror_mode": "text/x-c++src",
   "file_extension": ".C",
   "mimetype": " text/x-c++src",
   "name": "c++"
  }
 },
 "nbformat": 4,
 "nbformat_minor": 4
}
