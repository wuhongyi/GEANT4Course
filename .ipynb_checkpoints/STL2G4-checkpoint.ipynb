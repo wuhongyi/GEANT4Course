{
 "cells": [
  {
   "cell_type": "markdown",
   "metadata": {},
   "source": [
    "# 在探测器构建中使用外部 STL 几何模型"
   ]
  },
  {
   "cell_type": "markdown",
   "metadata": {},
   "source": [
    "**使用中如遇到问题，联系张集智 (zhangjizhi@pku.edu.cn)**"
   ]
  },
  {
   "cell_type": "markdown",
   "metadata": {},
   "source": [
    "### 获得 STL 模型文件（以 Solidworks 为例）\n",
    "\n",
    "1、使用 Solidworks 等三维 CAD 软件进行建模。建模时，应按照实际坐标系进行放置。\n",
    "\n",
    "2、完成建模后，用“显示/隐藏”功能对需要输出 STL 文件的部分进行筛选。\n",
    "\n",
    "- 对于探测器灵敏体积，每个探头需要单独输出一个 STL 文件（对于对称的设计，可以只输出一个探头，然后在 G4 中作旋转对称）。\n",
    "\n",
    "- 对于非灵敏体积（如外壳、支架），属于同一种材料的实体可输出为同一个 STL 文件（各实体允许在空间上存在隔离）。不同材料的实体需输出为不同文件。\n",
    "\n",
    "3、另存为 STL 格式，保存前点击“选项”进行 STL 文件格式设置。\n",
    "\n",
    "- 输出格式选择 ASCII 格式。二进制格式不支持。\n",
    "\n",
    "- 点选“不要转换 STL 输出数据到正的坐标空间”，保持坐标与建模时一致。\n",
    "\n",
    "- 若文件为装配体，点选“在单一文件中保存装配体的所有零部件”。\n",
    "\n",
    "4、检查输出的 STL 文件。\n",
    "\n",
    "- ASCII 格式应能用记事本打开。否则可能是误用了二进制格式。\n",
    "\n",
    "- 文件首行应以 \"solid\" 开头，后接一空格，以几何体的名称结尾。此名称必须为纯英文字母，不允许存在数字或符号，否则应予修改。该名称与几何体在 G4 中的名称无关联，且可以重复。"
   ]
  },
  {
   "cell_type": "markdown",
   "metadata": {},
   "source": [
    "![STL1](img/STL1.png)"
   ]
  },
  {
   "cell_type": "markdown",
   "metadata": {},
   "source": [
    "### 在 G4 中读取 STL 模型文件（使用 CADMesh 库）\n",
    "\n",
    "- 在 include 文件夹中添加 CADMesh 库文件，并在 DetectorConstruction.cc 中包含该文件\n",
    "   - 文件下载链接 https://disk.pku.edu.cn:443/link/661F6263B99FFB6C6496ADD8A357B2B7\n",
    "\n",
    "- 将 STL 模型文件移动到 G4 文件夹中。建议在程序目录下新建 model 文件夹。\n",
    "\n",
    "- 读取代码示例\n",
    "\n",
    "```cpp\n",
    "auto model = CADMesh::TessellatedMesh::FromSTL(\"../model/model.STL\");\n",
    " \n",
    "auto logicmodel = new G4LogicalVolume(model->GetSolid(),    //its solid\n",
    "                                       model_mat,            //its material\n",
    "                                       \"model\");             //its name\n",
    "```"
   ]
  },
  {
   "cell_type": "code",
   "execution_count": 1,
   "metadata": {},
   "outputs": [
    {
     "name": "stdout",
     "output_type": "stream",
     "text": [
      "2023年 10月 25日 星期三 20:11:29 CST\n",
      "\n",
      "[NbConvertApp] Converting notebook STL2G4.ipynb to html\n",
      "\n",
      "\n",
      "[NbConvertApp] Writing 562361 bytes to STL2G4.html\n",
      "\n",
      "\n"
     ]
    }
   ],
   "source": [
    "!date\n",
    "!jupyter nbconvert STL2G4.ipynb --to html"
   ]
  }
 ],
 "metadata": {
  "kernelspec": {
   "display_name": "ROOT C++",
   "language": "c++",
   "name": "root"
  },
  "language_info": {
   "codemirror_mode": "text/x-c++src",
   "file_extension": ".C",
   "mimetype": " text/x-c++src",
   "name": "c++"
  }
 },
 "nbformat": 4,
 "nbformat_minor": 4
}
