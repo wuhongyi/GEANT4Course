{
 "cells": [
  {
   "cell_type": "markdown",
   "metadata": {},
   "source": [
    "# EventAction"
   ]
  },
  {
   "cell_type": "markdown",
   "metadata": {},
   "source": [
    "与 G4UserRunAction、G4UserSteppingAction 类似，G4UserEventAction 也是提取物理量的一个重要接口,主要通过 ndOfEventAction 函数来实现。该函数在每个 Event 之后之后调用一次，用户可以通过这个接口提取灵敏探测器的数据。\n",
    "\n",
    "```cpp\n",
    "class G4UserEventAction \n",
    "{\n",
    "  public:\n",
    "\n",
    "    G4UserEventAction();\n",
    "    virtual ~G4UserEventAction() = default;\n",
    "    virtual void SetEventManager(G4EventManager* value);\n",
    "\n",
    "    virtual void BeginOfEventAction(const G4Event* anEvent);\n",
    "    virtual void EndOfEventAction(const G4Event* anEvent);\n",
    "      // Two virtual method the user can override.\n",
    "\n",
    "    virtual void MergeSubEvent(G4Event* masterEvent, const G4Event* subEvent);\n",
    "      // A virtual method to merge the results of a sub-event into the master\n",
    "      // event. The ownership of \"subEvent\" and its contents blong to the\n",
    "      // worker thread. \n",
    "      // Merging trajectories and scores are taken care by G4Event and\n",
    "      // G4ScoringManager so the user does not need to take care of them.\n",
    "      // But merging hits collections and UserEventInformation must be taken \n",
    "      // care by this method.\n",
    "      // This method is invoked only for the case of sub-event parallelism.\n",
    "\n",
    "  protected:\n",
    "\n",
    "      G4EventManager* fpEventManager = nullptr; // not owned\n",
    "};\n",
    "```\n",
    "\n"
   ]
  },
  {
   "cell_type": "markdown",
   "metadata": {},
   "source": [
    "以下是我们提供示例代码中的截图\n",
    "\n",
    "![picevent1](img/wueventactionallhh.png)\n",
    "\n",
    "在函数 **EndOfEventAction(const G4Event* anEvent)** 中，通过遍历灵敏探测器，获得每个灵敏探测器里面的数据。\n",
    "\n",
    "- G4HCofThisEvent：G4Event 的一个成员对象，为一容器；多个 SD 的多个 HitCollection 对象储存在该容器中。\n",
    "\n",
    "\n",
    "```cpp\n",
    "void wuEventActionAll::EndOfEventAction(const G4Event* anEvent)\n",
    "{\n",
    "  // // 读取该事件SD中记录的数据\n",
    "  G4HCofThisEvent *HCE = anEvent->GetHCofThisEvent();//SD  (hits collections of this event)\n",
    "  if(HCE)\n",
    "    {\n",
    "      size_t nHCinHCE = HCE->GetCapacity();//SD个数\n",
    "      // \n",
    "      for(size_t i = 0; i < nHCinHCE; i++)//遍历SD\n",
    "\t{\n",
    "\t  // 拿到HitCollection\n",
    "\t  wuHitCollection* HC = 0;\n",
    "\t  HC = (wuHitCollection*)(HCE->GetHC(i)); \n",
    "\t  if(HC) OneHitOrder(HC);//写数据\n",
    "\t}\n",
    "    }\n",
    "}\n",
    "```\n",
    "\n",
    "这里数据筛选以及数据存储被封装到函数 **OneHitOrder**\n",
    "\n",
    "![picevent2](img/onehitorder.png)\n",
    "\n",
    "该函数遍历一个灵敏探测器的数据(step)，在存储数据之前，可先对数据进行简单的筛选，降低数据量。具体可参考 [StepingAction](StepingAction.html) 中的方式。\n"
   ]
  },
  {
   "cell_type": "markdown",
   "metadata": {},
   "source": [
    "示例代码中，我们对两个探测器都设置为灵敏探测器。下图为典型的 steping 和 SD 同时数据输出，我们可以看到 EventID 为 14 的事件，高亮部分是灵敏探测器输出的数据。\n",
    "\n",
    "![picevent3](img/SD_dataexample.PNG)\n",
    "\n",
    "通常情况下，我们只需要通过一种方式进行数据输出即可，文件 **wuActionInitialization.cc** 可控制数据输出方式。\n",
    "\n",
    "\n",
    "```cpp\n",
    "void wuActionInitialization::Build() const\n",
    "{\n",
    "  //源的设置\n",
    "  SetUserAction(new wuPrimaryGeneratorActionAll);\n",
    "\n",
    "#if G4VERSION_NUMBER >= 1030\n",
    "  \n",
    "  G4MultiRunAction* actsRun = new G4MultiRunAction;\n",
    "  G4MultiEventAction* actsEvent = new G4MultiEventAction;\n",
    "  G4MultiTrackingAction* actsTrack = new G4MultiTrackingAction;\n",
    "  G4MultiSteppingAction* actsStep = new G4MultiSteppingAction;\n",
    "  \n",
    "  //...0123456789876543210...0123456789876543210...\n",
    "\n",
    "  actsRun->push_back(G4UserRunActionUPtr(new wuRunActionAll));\n",
    "  actsEvent->push_back(G4UserEventActionUPtr(new wuEventActionAll));\n",
    "  actsTrack->push_back(G4UserTrackingActionUPtr(new wuTrackingActionAll));\n",
    "  actsStep->push_back(G4UserSteppingActionUPtr(new wuSteppingActionAll));\n",
    "  \n",
    "  SetUserAction(new wuStackingActionAll);\n",
    "\n",
    "\n",
    "  //...0123456789876543210...0123456789876543210...\n",
    "  \n",
    "  SetUserAction(actsRun);\n",
    "  SetUserAction(actsTrack);\n",
    "  // 数据输出，根据需要开启  \n",
    "  SetUserAction(actsEvent);// save SD data \n",
    "  SetUserAction(actsStep);// save step data\n",
    "  \n",
    "#else\n",
    "  G4cout<<\"It need G4VERSION_NUMBER >= 1030\"<<G4endl;\n",
    "#endif \n",
    "}  \n",
    "```\n",
    "\n"
   ]
  },
  {
   "cell_type": "code",
   "execution_count": 1,
   "metadata": {},
   "outputs": [
    {
     "name": "stdout",
     "output_type": "stream",
     "text": [
      "2024年 05月 02日 星期四 10:09:03 CST\n",
      "\n",
      "[NbConvertApp] Converting notebook EventAction.ipynb to html\n",
      "[NbConvertApp] Writing 567876 bytes to EventAction.html\n",
      "\n"
     ]
    }
   ],
   "source": [
    "!date\n",
    "!jupyter nbconvert EventAction.ipynb --to html"
   ]
  }
 ],
 "metadata": {
  "kernelspec": {
   "display_name": "ROOT C++",
   "language": "c++",
   "name": "root"
  },
  "language_info": {
   "codemirror_mode": "text/x-c++src",
   "file_extension": ".C",
   "mimetype": " text/x-c++src",
   "name": "c++"
  }
 },
 "nbformat": 4,
 "nbformat_minor": 4
}
