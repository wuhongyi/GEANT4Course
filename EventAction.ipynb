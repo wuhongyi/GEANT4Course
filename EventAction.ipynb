{
 "cells": [
  {
   "cell_type": "markdown",
   "metadata": {},
   "source": [
    "# EventAction"
   ]
  },
  {
   "cell_type": "markdown",
   "metadata": {},
   "source": [
    "与 G4UserRunAction、G4UserSteppingAction 类似，G4UserEventAction 也是提取物理量的一个重要接口,主要通过 ndOfEventAction 函数来实现。该函数在每个 Event 之后之后调用一次，用户可以通过这个接口提取灵敏探测器的数据。\n",
    "\n",
    "```cpp\n",
    "class G4UserEventAction \n",
    "{\n",
    "  public:\n",
    "\n",
    "    G4UserEventAction();\n",
    "    virtual ~G4UserEventAction() = default;\n",
    "    virtual void SetEventManager(G4EventManager* value);\n",
    "\n",
    "    virtual void BeginOfEventAction(const G4Event* anEvent);\n",
    "    virtual void EndOfEventAction(const G4Event* anEvent);\n",
    "      // Two virtual method the user can override.\n",
    "\n",
    "    virtual void MergeSubEvent(G4Event* masterEvent, const G4Event* subEvent);\n",
    "      // A virtual method to merge the results of a sub-event into the master\n",
    "      // event. The ownership of \"subEvent\" and its contents blong to the\n",
    "      // worker thread. \n",
    "      // Merging trajectories and scores are taken care by G4Event and\n",
    "      // G4ScoringManager so the user does not need to take care of them.\n",
    "      // But merging hits collections and UserEventInformation must be taken \n",
    "      // care by this method.\n",
    "      // This method is invoked only for the case of sub-event parallelism.\n",
    "\n",
    "  protected:\n",
    "\n",
    "      G4EventManager* fpEventManager = nullptr; // not owned\n",
    "};\n",
    "```\n",
    "\n"
   ]
  },
  {
   "cell_type": "markdown",
   "metadata": {},
   "source": [
    "以下是我们提供示例代码中的截图\n",
    "\n",
    "![picevent1](img/wueventactionallhh.png)\n",
    "\n",
    "在函数 **EndOfEventAction(const G4Event* anEvent)** 中，通过遍历灵敏探测器，获得每个灵敏探测器里面的数据。\n",
    "\n",
    "- G4HCofThisEvent：G4Event 的一个成员对象，为一容器；多个 SD 的多个 HitCollection 对象储存在该容器中。\n",
    "\n",
    "\n",
    "```cpp\n",
    "void wuEventActionAll::EndOfEventAction(const G4Event* anEvent)\n",
    "{\n",
    "  // // 读取该事件SD中记录的数据\n",
    "  G4HCofThisEvent *HCE = anEvent->GetHCofThisEvent();//SD  (hits collections of this event)\n",
    "  if(HCE)\n",
    "    {\n",
    "      size_t nHCinHCE = HCE->GetCapacity();//SD个数\n",
    "      // \n",
    "      for(size_t i = 0; i < nHCinHCE; i++)//遍历SD\n",
    "\t{\n",
    "\t  // 拿到HitCollection\n",
    "\t  wuHitCollection* HC = 0;\n",
    "\t  HC = (wuHitCollection*)(HCE->GetHC(i)); \n",
    "\t  if(HC) OneHitOrder(HC);//写数据\n",
    "\t}\n",
    "    }\n",
    "}\n",
    "```\n",
    "\n",
    "这里数据筛选以及数据存储被封装到函数 **OneHitOrder**\n",
    "\n",
    "![picevent2](img/onehitorder.png)\n",
    "\n",
    "该函数遍历一个灵敏探测器的数据(step)，在存储数据之前，可先对数据进行简单的筛选，降低数据量。具体可参数 [StepingAction](StepingAction.html) 中的方式。\n"
   ]
  },
  {
   "cell_type": "code",
   "execution_count": 1,
   "metadata": {},
   "outputs": [
    {
     "name": "stdout",
     "output_type": "stream",
     "text": [
      "2024年 05月 01日 星期三 21:39:37 CST\n",
      "\n",
      "[NbConvertApp] Converting notebook EventAction.ipynb to html\n",
      "\n",
      "\n",
      "[NbConvertApp] Writing 567336 bytes to EventAction.html\n",
      "\n",
      "\n"
     ]
    }
   ],
   "source": [
    "!date\n",
    "!jupyter nbconvert EventAction.ipynb --to html"
   ]
  }
 ],
 "metadata": {
  "kernelspec": {
   "display_name": "ROOT C++",
   "language": "c++",
   "name": "root"
  },
  "language_info": {
   "codemirror_mode": "text/x-c++src",
   "file_extension": ".C",
   "mimetype": " text/x-c++src",
   "name": "c++"
  }
 },
 "nbformat": 4,
 "nbformat_minor": 4
}
